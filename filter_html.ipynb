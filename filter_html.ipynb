{
 "cells": [
  {
   "cell_type": "code",
   "execution_count": 2,
   "metadata": {},
   "outputs": [],
   "source": [
    "from bs4 import BeautifulSoup, Tag\n",
    "import pandas as pd\n",
    "import numpy as np\n",
    "import datetime as dt\n",
    "import os\n",
    "import betterdata\n",
    "import configparser\n",
    "import json\n",
    "import math"
   ]
  },
  {
   "cell_type": "code",
   "execution_count": 3,
   "metadata": {},
   "outputs": [],
   "source": [
    "config = configparser.ConfigParser()\n",
    "config.read('config.ini')\n",
    "output_dir = config['output'].get('out_dir')\n",
    "dir_credentials = config['database'].get('cred_dir')\n",
    "file_credentials = config['database'].get('cred_file')"
   ]
  },
  {
   "cell_type": "code",
   "execution_count": 17,
   "metadata": {},
   "outputs": [],
   "source": [
    "html = open('admin-ajax.html',encoding=\"utf8\").read()"
   ]
  },
  {
   "cell_type": "code",
   "execution_count": 18,
   "metadata": {},
   "outputs": [],
   "source": [
    "soup = BeautifulSoup(html)"
   ]
  },
  {
   "cell_type": "code",
   "execution_count": 19,
   "metadata": {},
   "outputs": [],
   "source": [
    "tienen_logo = soup.find_all(\"img\", src=True)"
   ]
  },
  {
   "cell_type": "code",
   "execution_count": 20,
   "metadata": {},
   "outputs": [],
   "source": [
    "ids = []\n",
    "for i in tienen_logo:\n",
    "    ids.append(int(i.get('src')[-7:-4].lstrip('/')))\n"
   ]
  },
  {
   "cell_type": "code",
   "execution_count": 4,
   "metadata": {},
   "outputs": [],
   "source": [
    "\n",
    "initial_date = '2022-01-01'\n",
    "quarter_start = dt.datetime.strptime(initial_date, '%Y-%m-%d')\n",
    "end_date = '2022-03-31'\n",
    "quarter_end = dt.datetime.strptime(end_date, '%Y-%m-%d')\n",
    "report_date = dt.datetime.today()\n",
    "today_str = dt.date(report_date.year, report_date.month,report_date.day)\n",
    "config = configparser.ConfigParser()\n",
    "config.read('config.ini')\n",
    "current_dir = config['output'].get('out_dir')\n",
    "dir_credentials = config['database'].get('cred_dir')\n",
    "name_file = config['database'].get('cred_file')\n",
    "\n",
    "\n",
    "connection = betterdata.create_database_connection(betterdata.read_credentials_file_local(dir_credentials = dir_credentials, file_credentials = name_file))"
   ]
  },
  {
   "cell_type": "code",
   "execution_count": 23,
   "metadata": {},
   "outputs": [],
   "source": [
    "with open('querys_redshift/new_logos.sql', 'r') as file:\n",
    "    _q_logos = file.read()\n",
    "    _q_logos = _q_logos.format(date_end_quarter=end_date, date_start_quarter=initial_date)\n",
    "empresas_total = betterdata.get_data_sql(connection=connection, query=_q_logos, close=False)\n",
    "empresas_total['primer_onb'] = empresas_total['primer_onb'].apply(lambda a: pd.to_datetime(a).date()) "
   ]
  },
  {
   "cell_type": "code",
   "execution_count": 26,
   "metadata": {},
   "outputs": [],
   "source": [
    "with open('querys_redshift/dados_baja.sql', 'r') as file:\n",
    "    _q_baja = file.read()\n",
    "df_baja = betterdata.get_data_sql(connection=connection, query=_q_baja, close=False)"
   ]
  },
  {
   "cell_type": "code",
   "execution_count": 28,
   "metadata": {},
   "outputs": [
    {
     "data": {
      "text/html": [
       "<div>\n",
       "<style scoped>\n",
       "    .dataframe tbody tr th:only-of-type {\n",
       "        vertical-align: middle;\n",
       "    }\n",
       "\n",
       "    .dataframe tbody tr th {\n",
       "        vertical-align: top;\n",
       "    }\n",
       "\n",
       "    .dataframe thead th {\n",
       "        text-align: right;\n",
       "    }\n",
       "</style>\n",
       "<table border=\"1\" class=\"dataframe\">\n",
       "  <thead>\n",
       "    <tr style=\"text-align: right;\">\n",
       "      <th></th>\n",
       "      <th>id_org</th>\n",
       "      <th>organization</th>\n",
       "      <th>inicio_cont</th>\n",
       "      <th>primer_onb</th>\n",
       "      <th>activos</th>\n",
       "      <th>total</th>\n",
       "      <th>donaciones</th>\n",
       "    </tr>\n",
       "  </thead>\n",
       "  <tbody>\n",
       "  </tbody>\n",
       "</table>\n",
       "</div>"
      ],
      "text/plain": [
       "Empty DataFrame\n",
       "Columns: [id_org, organization, inicio_cont, primer_onb, activos, total, donaciones]\n",
       "Index: []"
      ]
     },
     "execution_count": 28,
     "metadata": {},
     "output_type": "execute_result"
    }
   ],
   "source": [
    "empresas_total[empresas_total['id_org']==265]"
   ]
  },
  {
   "cell_type": "code",
   "execution_count": 27,
   "metadata": {},
   "outputs": [],
   "source": [
    "empresas_total = empresas_total[~empresas_total['id_org'].isin(df_baja['id_org'])]"
   ]
  },
  {
   "cell_type": "code",
   "execution_count": null,
   "metadata": {},
   "outputs": [],
   "source": []
  },
  {
   "cell_type": "code",
   "execution_count": 29,
   "metadata": {},
   "outputs": [],
   "source": [
    "no_logo = empresas_total[~empresas_total['id_org'].isin(ids)]\n",
    "no_logo=no_logo.fillna(0)\n",
    "no_logo[no_logo['donaciones']>0].to_excel('Logos_Faltantes.xlsx')"
   ]
  },
  {
   "cell_type": "code",
   "execution_count": 61,
   "metadata": {},
   "outputs": [],
   "source": [
    "empresas_q4 = pd.read_excel('empresas q4.xlsx')  \n",
    "empresas_q4 = empresas_q4.drop_duplicates(subset='id_org')"
   ]
  },
  {
   "cell_type": "code",
   "execution_count": 66,
   "metadata": {},
   "outputs": [],
   "source": [
    "q_admins = pd.merge(empresas_total,empresas_q4, how='left',on='id_org')"
   ]
  },
  {
   "cell_type": "code",
   "execution_count": 68,
   "metadata": {},
   "outputs": [],
   "source": [
    "q_admins.to_excel('Q1 2022.xlsx')"
   ]
  },
  {
   "cell_type": "code",
   "execution_count": 69,
   "metadata": {},
   "outputs": [
    {
     "data": {
      "text/html": [
       "<div>\n",
       "<style scoped>\n",
       "    .dataframe tbody tr th:only-of-type {\n",
       "        vertical-align: middle;\n",
       "    }\n",
       "\n",
       "    .dataframe tbody tr th {\n",
       "        vertical-align: top;\n",
       "    }\n",
       "\n",
       "    .dataframe thead th {\n",
       "        text-align: right;\n",
       "    }\n",
       "</style>\n",
       "<table border=\"1\" class=\"dataframe\">\n",
       "  <thead>\n",
       "    <tr style=\"text-align: right;\">\n",
       "      <th></th>\n",
       "      <th>id_org</th>\n",
       "      <th>organization</th>\n",
       "      <th>inicio_cont</th>\n",
       "      <th>primer_onb</th>\n",
       "      <th>activos</th>\n",
       "      <th>total</th>\n",
       "      <th>donaciones</th>\n",
       "    </tr>\n",
       "  </thead>\n",
       "  <tbody>\n",
       "    <tr>\n",
       "      <th>0</th>\n",
       "      <td>15</td>\n",
       "      <td>Betterfly</td>\n",
       "      <td>2020-08-01</td>\n",
       "      <td>2020-08-17</td>\n",
       "      <td>444</td>\n",
       "      <td>540</td>\n",
       "      <td>4343.0</td>\n",
       "    </tr>\n",
       "    <tr>\n",
       "      <th>1</th>\n",
       "      <td>17</td>\n",
       "      <td>STATKRAFT</td>\n",
       "      <td>2020-11-12</td>\n",
       "      <td>2020-11-12</td>\n",
       "      <td>126</td>\n",
       "      <td>144</td>\n",
       "      <td>246.0</td>\n",
       "    </tr>\n",
       "    <tr>\n",
       "      <th>2</th>\n",
       "      <td>18</td>\n",
       "      <td>Demo Organization</td>\n",
       "      <td>2022-01-28</td>\n",
       "      <td>2022-01-28</td>\n",
       "      <td>2</td>\n",
       "      <td>2</td>\n",
       "      <td>1.0</td>\n",
       "    </tr>\n",
       "    <tr>\n",
       "      <th>3</th>\n",
       "      <td>20</td>\n",
       "      <td>YANEKEN</td>\n",
       "      <td>2020-10-26</td>\n",
       "      <td>2020-10-26</td>\n",
       "      <td>1178</td>\n",
       "      <td>1601</td>\n",
       "      <td>3988.0</td>\n",
       "    </tr>\n",
       "    <tr>\n",
       "      <th>4</th>\n",
       "      <td>21</td>\n",
       "      <td>Asesorias UNDA</td>\n",
       "      <td>2020-09-01</td>\n",
       "      <td>2020-09-01</td>\n",
       "      <td>56</td>\n",
       "      <td>59</td>\n",
       "      <td>458.0</td>\n",
       "    </tr>\n",
       "    <tr>\n",
       "      <th>...</th>\n",
       "      <td>...</td>\n",
       "      <td>...</td>\n",
       "      <td>...</td>\n",
       "      <td>...</td>\n",
       "      <td>...</td>\n",
       "      <td>...</td>\n",
       "      <td>...</td>\n",
       "    </tr>\n",
       "    <tr>\n",
       "      <th>927</th>\n",
       "      <td>2476</td>\n",
       "      <td>Fundación Mustakis</td>\n",
       "      <td>2022-03-03</td>\n",
       "      <td>2022-03-03</td>\n",
       "      <td>41</td>\n",
       "      <td>42</td>\n",
       "      <td>27.0</td>\n",
       "    </tr>\n",
       "    <tr>\n",
       "      <th>928</th>\n",
       "      <td>2477</td>\n",
       "      <td>SmartJob</td>\n",
       "      <td>2022-03-03</td>\n",
       "      <td>2022-03-03</td>\n",
       "      <td>70</td>\n",
       "      <td>71</td>\n",
       "      <td>36.0</td>\n",
       "    </tr>\n",
       "    <tr>\n",
       "      <th>929</th>\n",
       "      <td>2509</td>\n",
       "      <td>Balneario Algarrobo</td>\n",
       "      <td>2022-03-03</td>\n",
       "      <td>2022-03-03</td>\n",
       "      <td>3</td>\n",
       "      <td>3</td>\n",
       "      <td>NaN</td>\n",
       "    </tr>\n",
       "    <tr>\n",
       "      <th>930</th>\n",
       "      <td>2542</td>\n",
       "      <td>Panesco y TPatagonia</td>\n",
       "      <td>2022-03-03</td>\n",
       "      <td>2022-03-03</td>\n",
       "      <td>23</td>\n",
       "      <td>23</td>\n",
       "      <td>14.0</td>\n",
       "    </tr>\n",
       "    <tr>\n",
       "      <th>931</th>\n",
       "      <td>2575</td>\n",
       "      <td>GlobalNet</td>\n",
       "      <td>2022-03-04</td>\n",
       "      <td>2022-03-04</td>\n",
       "      <td>21</td>\n",
       "      <td>21</td>\n",
       "      <td>5.0</td>\n",
       "    </tr>\n",
       "  </tbody>\n",
       "</table>\n",
       "<p>708 rows × 7 columns</p>\n",
       "</div>"
      ],
      "text/plain": [
       "     id_org          organization inicio_cont  primer_onb  activos  total  \\\n",
       "0        15             Betterfly  2020-08-01  2020-08-17      444    540   \n",
       "1        17             STATKRAFT  2020-11-12  2020-11-12      126    144   \n",
       "2        18     Demo Organization  2022-01-28  2022-01-28        2      2   \n",
       "3        20               YANEKEN  2020-10-26  2020-10-26     1178   1601   \n",
       "4        21        Asesorias UNDA  2020-09-01  2020-09-01       56     59   \n",
       "..      ...                   ...         ...         ...      ...    ...   \n",
       "927    2476    Fundación Mustakis  2022-03-03  2022-03-03       41     42   \n",
       "928    2477              SmartJob  2022-03-03  2022-03-03       70     71   \n",
       "929    2509   Balneario Algarrobo  2022-03-03  2022-03-03        3      3   \n",
       "930    2542  Panesco y TPatagonia  2022-03-03  2022-03-03       23     23   \n",
       "931    2575             GlobalNet  2022-03-04  2022-03-04       21     21   \n",
       "\n",
       "     donaciones  \n",
       "0        4343.0  \n",
       "1         246.0  \n",
       "2           1.0  \n",
       "3        3988.0  \n",
       "4         458.0  \n",
       "..          ...  \n",
       "927        27.0  \n",
       "928        36.0  \n",
       "929         NaN  \n",
       "930        14.0  \n",
       "931         5.0  \n",
       "\n",
       "[708 rows x 7 columns]"
      ]
     },
     "execution_count": 69,
     "metadata": {},
     "output_type": "execute_result"
    }
   ],
   "source": [
    "empresas_total"
   ]
  }
 ],
 "metadata": {
  "interpreter": {
   "hash": "904a3cbb849aa4878164cb830fcd75d92390818adcbcda36cb8cb08d32da7198"
  },
  "kernelspec": {
   "display_name": "Python 3.8.9 64-bit",
   "language": "python",
   "name": "python3"
  },
  "language_info": {
   "codemirror_mode": {
    "name": "ipython",
    "version": 3
   },
   "file_extension": ".py",
   "mimetype": "text/x-python",
   "name": "python",
   "nbconvert_exporter": "python",
   "pygments_lexer": "ipython3",
   "version": "3.8.9"
  },
  "orig_nbformat": 4
 },
 "nbformat": 4,
 "nbformat_minor": 2
}
