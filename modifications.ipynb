{
 "cells": [
  {
   "cell_type": "code",
   "execution_count": 1,
   "metadata": {
    "collapsed": true
   },
   "outputs": [],
   "source": [
    "import pandas as pd\n",
    "import numpy as np\n",
    "import datetime as dt\n",
    "import os\n",
    "import betterdata\n",
    "import configparser\n",
    "import json\n",
    "import math\n",
    "from calendar import month_name\n",
    "# from deep_translator import GoogleTranslator"
   ]
  },
  {
   "cell_type": "code",
   "execution_count": 2,
   "metadata": {},
   "outputs": [],
   "source": [
    "#Set the dates for the report and the config file with all the paths\n",
    "initial_date = '2022-01-01'\n",
    "quarter_start = dt.datetime.strptime(initial_date, '%Y-%m-%d')\n",
    "end_date = '2022-04-01'\n",
    "quarter_end = dt.datetime.strptime(end_date, '%Y-%m-%d')\n",
    "report_date = dt.datetime.today()\n",
    "today_str = dt.date(report_date.year, report_date.month,report_date.day)\n",
    "config = configparser.ConfigParser()\n",
    "config.read('config.ini')\n",
    "current_dir = config['output'].get('out_dir')\n",
    "dir_credentials = config['database'].get('cred_dir')\n",
    "name_file = config['database'].get('cred_file')"
   ]
  },
  {
   "cell_type": "code",
   "execution_count": 3,
   "metadata": {},
   "outputs": [],
   "source": [
    "connection = betterdata.create_database_connection(betterdata.read_credentials_file_local(dir_credentials = dir_credentials, file_credentials = name_file))\n"
   ]
  },
  {
   "cell_type": "markdown",
   "metadata": {},
   "source": [
    "## Queries"
   ]
  },
  {
   "cell_type": "code",
   "execution_count": 4,
   "metadata": {},
   "outputs": [],
   "source": [
    "\n",
    "with open('querys_redshift/bettercoins.sql', 'r') as file:\n",
    "    _q_bettercoins = file.read()\n",
    "    _q_bettercoins = _q_bettercoins.format(date_end_quarter=end_date, date_start_quarter=initial_date)\n",
    "df_bettercoins = betterdata.get_data_sql(connection=connection, query=_q_bettercoins, close=False)\n",
    "\n",
    "df_bettercoins['bettercoins_donadas'] = abs(df_bettercoins['bettercoins_donadas'])\n",
    "df_bettercoins['proporcion_uso_moneda'] = abs(df_bettercoins['proporcion_uso_moneda'])"
   ]
  },
  {
   "cell_type": "code",
   "execution_count": 5,
   "metadata": {},
   "outputs": [],
   "source": [
    "with open('querys_redshift/bettercoins_habits.sql', 'r') as file:\n",
    "    _q_bettercoins_habits = file.read()\n",
    "    _q_bettercoins_habits = _q_bettercoins_habits.format(date_end_quarter=end_date, date_start_quarter=initial_date)\n",
    "df_bettercoins_habits = betterdata.get_data_sql(connection=connection, query=_q_bettercoins_habits, close=False)"
   ]
  },
  {
   "cell_type": "code",
   "execution_count": 6,
   "metadata": {},
   "outputs": [],
   "source": [
    "with open('querys_redshift/date_cohort.sql', 'r') as file:\n",
    "    _q_date_cohort= file.read()\n",
    "    _q_date_cohort = _q_date_cohort.format(date_end_quarter=end_date, date_start_quarter=initial_date)\n",
    "df_date_cohorts = betterdata.get_data_sql(connection = connection, query = _q_date_cohort, close = False)\n",
    "df_cohorts = df_date_cohorts[['organization','n_athletes','date_cohort','diff_dias','total_days']]"
   ]
  },
  {
   "cell_type": "code",
   "execution_count": 7,
   "metadata": {},
   "outputs": [],
   "source": [
    "with open('querys_redshift/subscribers.sql', 'r') as file:\n",
    "        _q_subscribers= file.read()\n",
    "df_subscribers = betterdata.get_data_sql(connection = connection, query = _q_subscribers, close = False)\n",
    "conditions = [\n",
    "    (df_subscribers['pk_dim_documenttype'] == 1),\n",
    "    (df_subscribers['pk_dim_documenttype'] != 1),\n",
    "    ]\n",
    "values = [df_subscribers['bk_identification_value'].str[:-1], df_subscribers['bk_identification_value']]\n",
    "df_subscribers['bk_identification_value'] = np.select(conditions, values)\n",
    "df_subscribers = df_subscribers.drop(columns = \"pk_dim_documenttype\")"
   ]
  },
  {
   "cell_type": "code",
   "execution_count": 8,
   "metadata": {},
   "outputs": [],
   "source": [
    "with open('querys_redshift/benefits.sql', 'r') as file:\n",
    "    _q_benefits= file.read()\n",
    "df_benefits = betterdata.get_data_sql(connection = connection, query = _q_benefits, close = False)"
   ]
  },
  {
   "cell_type": "code",
   "execution_count": 9,
   "metadata": {},
   "outputs": [],
   "source": [
    "with open('querys_redshift/level.sql', 'r') as file:\n",
    "        _q_level= file.read()\n",
    "        _q_level= _q_level.format(date_end_quarter=end_date)\n",
    "df_levels = betterdata.get_data_sql(connection = connection, query = _q_level, close = False)\n",
    "df_levels = df_levels.fillna('2022-03-31')\n",
    "df_levels = df_levels.drop_duplicates(subset=['athlete'],keep='last')\n",
    "df_levels=df_levels.groupby(['name_organization','nivel']).agg({'athlete':'count'}).reset_index()"
   ]
  },
  {
   "cell_type": "code",
   "execution_count": 10,
   "metadata": {},
   "outputs": [],
   "source": [
    "with open('querys_redshift/dados_baja.sql', 'r') as file:\n",
    "        _q_level= file.read()\n",
    "        _q_level= _q_level.format(date_end_quarter=end_date)\n",
    "df_baja = betterdata.get_data_sql(connection = connection, query = _q_level, close = False)\n"
   ]
  },
  {
   "cell_type": "code",
   "execution_count": 11,
   "metadata": {},
   "outputs": [],
   "source": [
    "# out=['REWARDS','PATRICIO TOLEDO','FREE TRIAL','CALLEJAS VARGAS','C.E.COLEGIO ALTAZOR','B2C_BETTERFLY','AGRICOLA LEIVA','LONGPORT CHILE','GUILLERMO RIVEROS F.','C.M.ESTACION CENTRAL','GSC','P&G CHILE','P&G COLOMBIA','P&G PERU','SCHUTZ','SAMSUNG_PROFESORES','SAMSUNG_PROMO', 'AGQ CHILE', 'STARCLEAN Y TUPLAN']\n",
    "with open('querys_redshift/onboarding.sql', 'r') as file:\n",
    "    _q_onboarding = file.read()\n",
    "    _q_onboarding = _q_onboarding.format(date_end_quarter=end_date)\n",
    "df_onboarding = betterdata.get_data_sql(connection = connection, query = _q_onboarding, close = False)\n",
    "# df_onboarding = df_onboarding[~df_onboarding.organization.isin(out)]"
   ]
  },
  {
   "cell_type": "code",
   "execution_count": 12,
   "metadata": {},
   "outputs": [],
   "source": [
    "with open('querys_redshift/date_inicio.sql', 'r') as file:\n",
    "        _q_date_inicio= file.read()\n",
    "df_inicio = betterdata.get_data_sql(connection = connection, query = _q_date_inicio, close = False)\n",
    "df_orgs = pd.merge(df_onboarding, df_inicio, on='organization')\n",
    "# orgs = list(df_orgs['organization'])\n",
    "# df_onboarding = df_orgs\n",
    "# df_onboarding = df_onboarding.drop_duplicates(subset='organization',keep='last')"
   ]
  },
  {
   "cell_type": "code",
   "execution_count": 13,
   "metadata": {},
   "outputs": [],
   "source": [
    "\n",
    "with open('querys_redshift/companies.sql', 'r') as file:\n",
    "        _q_date_inicio= file.read()\n",
    "df_companies = betterdata.get_data_sql(connection = connection, query = _q_date_inicio, close = False)"
   ]
  },
  {
   "cell_type": "code",
   "execution_count": 14,
   "metadata": {},
   "outputs": [],
   "source": [
    "empresas_q1 = pd.read_excel('Lanzamiento EB Portal.xlsx',sheet_name='admins_file_to_luciano') \n",
    "empresas_q1.dropna(subset=['Admin__r.Email'],inplace=True)\n",
    "empresas_q1.rename(columns={'Unnamed: 0':'id'},inplace=True)\n",
    "# empresas_q1 = empresas_q1.dropna(subset=['Unnamed: 3'])\n",
    "# empresas_q1.rename(columns={'Unnamed: 3':'name','Unnamed: 8':'correo','Unnamed: 6':'Nombre','Unnamed: 7':'Apellido'},inplace=True)\n",
    "# empresas_q1 = empresas_q1[['name','Nombre','correo','Apellido','Unnamed: 9',\t'Unnamed: 10','Unnamed: 11','Unnamed: 12','Unnamed: 13','Unnamed: 14','Unnamed: 15','Unnamed: 16','Unnamed: 17']]\n",
    "# con_razon = pd.merge(df_onboarding,empresas_q1, how='left',on='id')"
   ]
  },
  {
   "cell_type": "code",
   "execution_count": 22,
   "metadata": {},
   "outputs": [],
   "source": [
    "ya_estan = df_onboarding[~df_onboarding['id'].isin(empresas_q1['id'])]"
   ]
  },
  {
   "cell_type": "code",
   "execution_count": 23,
   "metadata": {},
   "outputs": [],
   "source": [
    "no_estan = df_onboarding[df_onboarding['id'].isin(empresas_q1['id'])]"
   ]
  },
  {
   "cell_type": "code",
   "execution_count": 24,
   "metadata": {},
   "outputs": [],
   "source": [
    "empresas_q4 = pd.read_excel('empresas q4.xlsx') \n"
   ]
  },
  {
   "cell_type": "code",
   "execution_count": 25,
   "metadata": {},
   "outputs": [],
   "source": [
    "ya_estan = pd.merge(ya_estan,empresas_q4,how='left',on='id')"
   ]
  },
  {
   "cell_type": "code",
   "execution_count": 26,
   "metadata": {},
   "outputs": [],
   "source": [
    "no_estan = pd.merge(no_estan,empresas_q1,how='left',on='id')"
   ]
  },
  {
   "cell_type": "code",
   "execution_count": 99,
   "metadata": {},
   "outputs": [],
   "source": [
    "ya_estan.to_excel('ya_estan.xlsx')\n",
    "no_estan.to_excel('no_estan.xlsx')"
   ]
  },
  {
   "cell_type": "code",
   "execution_count": 15,
   "metadata": {},
   "outputs": [],
   "source": [
    "with open('querys_redshift/clusters.sql', 'r') as file:\n",
    "        _q_org= file.read()\n",
    "df_cluster = betterdata.get_data_sql(connection = connection, query = _q_org, close = False)\n",
    "with open('querys_redshift/organization.sql', 'r') as file:\n",
    "        _q_org= file.read()\n",
    "df_org = betterdata.get_data_sql(connection = connection, query = _q_org, close = False)\n",
    "total = pd.merge(df_cluster, df_org, how='left', on='pk_dim_organization')\n",
    "total.rename({'cluster': 'labels', 'organization': 'name_organization'}, axis=1, inplace=True)\n",
    "total = total.drop(columns='athlete')\n",
    "total['freq'] = total.groupby(['name_organization','labels'])['labels'].transform('count')\n",
    "df_cluster =  total.drop_duplicates()"
   ]
  },
  {
   "cell_type": "code",
   "execution_count": 16,
   "metadata": {},
   "outputs": [],
   "source": [
    "with open('querys_redshift/onb_4abril.sql', 'r') as file:\n",
    "        _q_org= file.read()\n",
    "df_onb4abril = betterdata.get_data_sql(connection = connection, query = _q_org, close = False)\n",
    "df_onb4abril['date_inicio'] = pd.to_datetime(df_onb4abril['date_inicio'], format='%Y-%m-%d')\n",
    "# df_onb4abril[df_onb4abril['date_inicio']== dt.datetime.strptime('2022-04-01','%Y-%m-%d')]"
   ]
  },
  {
   "cell_type": "code",
   "execution_count": 17,
   "metadata": {},
   "outputs": [],
   "source": [
    "_q_uf = \"select value from trusted.dim_ufvalues where \\\"date\\\" = '{date_end_quarter}'::date\".format(date_end_quarter = '2021-12-31')\n",
    "uf_value = betterdata.get_data_sql(connection = connection, query = _q_uf, close = False)\n",
    "uf_value = uf_value.values\n",
    "uf_value = uf_value[0][0]"
   ]
  },
  {
   "cell_type": "code",
   "execution_count": 18,
   "metadata": {},
   "outputs": [],
   "source": [
    "with open('querys_redshift/coverage.sql', 'r') as file:\n",
    "    _q_coverage_f= file.read()\n",
    "    _q_coverage = _q_coverage_f.format(date_start_quarter=initial_date, date_end_quarter=end_date)\n",
    "df_coverage = betterdata.get_data_sql(connection = connection, query = _q_coverage, close = False)\n",
    "df_coverage['coverage'] = df_coverage['coverage_uf']*uf_value\n",
    "\n",
    "df_coverage_mes=df_coverage.groupby(['organization']).sum()[['coverage']].reset_index()"
   ]
  },
  {
   "cell_type": "code",
   "execution_count": 19,
   "metadata": {},
   "outputs": [],
   "source": [
    "with open('querys_redshift/coverage_reales.sql', 'r') as file:\n",
    "    _q_coverage_= file.read()\n",
    "    _q_coverage_r = _q_coverage_.format(date_start_quarter=initial_date, date_end_quarter=end_date)\n",
    "_q_coverage_r = betterdata.get_data_sql(connection = connection, query = _q_coverage_r, close = False)\n",
    "_q_coverage_r['coverage'] = _q_coverage_r['coverage_uf']*uf_value\n",
    "\n",
    "\n",
    "df_coverage_mes_r=_q_coverage_r.groupby(['organization']).sum()[['coverage']].reset_index()"
   ]
  },
  {
   "cell_type": "code",
   "execution_count": 20,
   "metadata": {},
   "outputs": [
    {
     "name": "stderr",
     "output_type": "stream",
     "text": [
      "C:\\Users\\ignac\\AppData\\Local\\Temp/ipykernel_13028/3952708930.py:18: SettingWithCopyWarning: \n",
      "A value is trying to be set on a copy of a slice from a DataFrame.\n",
      "Try using .loc[row_indexer,col_indexer] = value instead\n",
      "\n",
      "See the caveats in the documentation: https://pandas.pydata.org/pandas-docs/stable/user_guide/indexing.html#returning-a-view-versus-a-copy\n",
      "  df_activities_by_day['mes'] = df_activities_by_day['month_selected'].apply(lambda x: x.strftime('%B'))\n"
     ]
    }
   ],
   "source": [
    "with open('querys_redshift/activities.sql', 'r') as file:\n",
    "    _q_activities = file.read()\n",
    "    _q_activities = _q_activities.format(date_start_quarter=initial_date, date_end_quarter=end_date)\n",
    "df_activities_by_day_ = betterdata.get_data_sql(connection = connection, query = _q_activities, close = False)\n",
    "df_steps=df_activities_by_day_[df_activities_by_day_['habit_type']==2]\n",
    "df_activities_by_day = df_activities_by_day_[df_activities_by_day_['habit_type']==1]\n",
    "\n",
    "#actividades todo el año\n",
    "df_activities = df_activities_by_day.fillna(0).groupby(['organization', 'sport'])[['calories', 'minutes_activities']]\\\n",
    "                                        .agg(numCalories = ('calories','sum'), numMinutes= ('minutes_activities','sum'))\\\n",
    "                                        .reset_index()\n",
    "#steps por mes\n",
    "df_steps_mes = df_steps.copy()\n",
    "df_steps_mes['mes'] = df_steps['month_selected'].apply(lambda x: x.strftime('%B'))\n",
    "df_steps_mes = df_steps_mes.groupby(['organization','mes']).agg({'steps':'sum'}).reset_index()\n",
    "\n",
    "#activities day por mes\n",
    "df_activities_by_day['mes'] = df_activities_by_day['month_selected'].apply(lambda x: x.strftime('%B'))\n",
    "df_activities_by_day = df_activities_by_day[['organization','mes','calories' , 'minutes_activities' ,'sport',  'id']]\n",
    "\n",
    "#steps todo el año\n",
    "df_steps = df_steps.groupby('organization').agg({'steps':sum}).reset_index()"
   ]
  },
  {
   "cell_type": "code",
   "execution_count": 21,
   "metadata": {},
   "outputs": [],
   "source": [
    "with open('querys_redshift/meditation.sql', 'r') as file:\n",
    "    _q_med = file.read()\n",
    "    _q_med = _q_med.format(date_start_quarter=initial_date, date_end_quarter=end_date)\n",
    "df_meditation_mes = betterdata.get_data_sql(connection = connection, query = _q_med, close = False)\n",
    "# #meditation por mes\n",
    "# df_meditation_mes['month_selected'] = df_meditation_mes['month_selected'].apply(lambda x: x.strftime('%B'))\n",
    "# df_meditation_mes = df_meditation_mes[['pk_dim_athlete','organization','month_selected','num_meditations','min_meditation']]\n",
    "\n",
    "# #meditacion total año\n",
    "df_meditation = df_meditation_mes.groupby(['athlete','organization']).agg({'min_meditation':'sum','num_meditations':'sum'}).reset_index()"
   ]
  },
  {
   "cell_type": "code",
   "execution_count": 22,
   "metadata": {},
   "outputs": [],
   "source": [
    "with open('querys_redshift/donations.sql', 'r') as file:\n",
    "    _q_donations_b= file.read()\n",
    "    _q_donations_b = _q_donations_b.format(date_start_quarter=initial_date, date_end_quarter=end_date)\n",
    "df_donations_b = betterdata.get_data_sql(connection = connection, query = _q_donations_b, close = False)\n",
    "df_donations_b['mes'] = df_donations_b['month_selected'].apply(lambda x: x.strftime('%B'))\n",
    "\n",
    "#donaciones anuales por campaña\n",
    "df_donations = df_donations_b.groupby(['id_campaign','organization','campaign','type_donation']).agg({'donations':'sum'}).reset_index()"
   ]
  },
  {
   "cell_type": "code",
   "execution_count": 23,
   "metadata": {},
   "outputs": [],
   "source": [
    "with open('querys_redshift/manual_habits.sql', 'r') as file:\n",
    "    _q_donations_b= file.read()\n",
    "    _q_donations_b = _q_donations_b.format(date_start_quarter=initial_date, date_end_quarter=end_date)\n",
    "df_manual = betterdata.get_data_sql(connection = connection, query = _q_donations_b, close = False)"
   ]
  },
  {
   "cell_type": "markdown",
   "metadata": {},
   "source": [
    "## Funciones"
   ]
  },
  {
   "cell_type": "code",
   "execution_count": 24,
   "metadata": {
    "collapsed": false,
    "pycharm": {
     "name": "#%% execute\n"
    }
   },
   "outputs": [],
   "source": [
    "def get_message(df_coverage, df_meditation, df_activities,organization):\n",
    "    \"\"\"\n",
    "    Defines a message related to an accomplishment of the organization.\n",
    "    \"\"\"\n",
    "    df_med=df_meditation[['organization','min_meditation']].groupby(['organization']).sum()\n",
    "    df_cal=df_activities[['organization','numCalories']].groupby(['organization']).sum()\n",
    "    df=df_cal.merge(df_med,on='organization',how='outer')\n",
    "    df_coverage = df_coverage[['organization','coverage']].groupby(['organization']).sum().reset_index()\n",
    "    df_final=df_coverage.merge(df,on='organization',how='outer')\n",
    "    med=df_final.sort_values(by='min_meditation',ascending=False)['organization'].to_numpy()[0:10]\n",
    "    df_final=df_final.set_index('organization')\n",
    "    df_c=df_final.drop(med)\n",
    "    df_c.reset_index(inplace=True)\n",
    "    cov=df_c.sort_values(by='coverage',ascending=False)['organization'].to_numpy()[0:10]\n",
    "    df_c=df_c.set_index('organization')\n",
    "    df_cal=df_c.drop(cov)\n",
    "    df_cal.reset_index(inplace=True)\n",
    "    cal=df_cal.sort_values(by='numCalories',ascending=False)['organization'][0:10].to_numpy()\n",
    "    if organization in med:\n",
    "        frase= \"Están dentro de las 10 empresas que más ha meditado. Mentes en calma, ideas brillantes. \"\n",
    "    elif organization in cov:\n",
    "        frase=\"Están dentro de las 10 empresas que más  cobertura de seguro de vida han acumulado. Su protección financiera es tranquilidad para ellos y sus seres queridos. \"\n",
    "    elif organization in cal:\n",
    "        frase=\"Están dentro de las 10 empresas que más han quemado calorías. Tu equipo es uno de los más activos y su impacto es el reflejo de su esfuerzo.\"\n",
    "    else:\n",
    "        frase = \" ¡Felicitaciones por haberse embarcado en este viaje de transformación e impacto! El bienestar de tus colaboradores y la protección financiera de sus seres queridos es el beneficio más grande que le puedes entregar.\"\n",
    "    return frase"
   ]
  },
  {
   "cell_type": "code",
   "execution_count": 25,
   "metadata": {},
   "outputs": [
    {
     "data": {
      "text/html": [
       "<div>\n",
       "<style scoped>\n",
       "    .dataframe tbody tr th:only-of-type {\n",
       "        vertical-align: middle;\n",
       "    }\n",
       "\n",
       "    .dataframe tbody tr th {\n",
       "        vertical-align: top;\n",
       "    }\n",
       "\n",
       "    .dataframe thead th {\n",
       "        text-align: right;\n",
       "    }\n",
       "</style>\n",
       "<table border=\"1\" class=\"dataframe\">\n",
       "  <thead>\n",
       "    <tr style=\"text-align: right;\">\n",
       "      <th></th>\n",
       "      <th>organization</th>\n",
       "      <th>donations</th>\n",
       "    </tr>\n",
       "  </thead>\n",
       "  <tbody>\n",
       "    <tr>\n",
       "      <th>0</th>\n",
       "      <td>23People</td>\n",
       "      <td>102</td>\n",
       "    </tr>\n",
       "    <tr>\n",
       "      <th>1</th>\n",
       "      <td>3G OFFICE</td>\n",
       "      <td>107</td>\n",
       "    </tr>\n",
       "    <tr>\n",
       "      <th>2</th>\n",
       "      <td>4Geeks CL SpA</td>\n",
       "      <td>28</td>\n",
       "    </tr>\n",
       "    <tr>\n",
       "      <th>3</th>\n",
       "      <td>734 Odontológica P.V</td>\n",
       "      <td>105</td>\n",
       "    </tr>\n",
       "    <tr>\n",
       "      <th>5</th>\n",
       "      <td>AB InBev</td>\n",
       "      <td>1438</td>\n",
       "    </tr>\n",
       "    <tr>\n",
       "      <th>...</th>\n",
       "      <td>...</td>\n",
       "      <td>...</td>\n",
       "    </tr>\n",
       "    <tr>\n",
       "      <th>768</th>\n",
       "      <td>YAPO.CL</td>\n",
       "      <td>245</td>\n",
       "    </tr>\n",
       "    <tr>\n",
       "      <th>769</th>\n",
       "      <td>YAPP</td>\n",
       "      <td>98</td>\n",
       "    </tr>\n",
       "    <tr>\n",
       "      <th>770</th>\n",
       "      <td>YOM</td>\n",
       "      <td>294</td>\n",
       "    </tr>\n",
       "    <tr>\n",
       "      <th>771</th>\n",
       "      <td>YOUTOPIA</td>\n",
       "      <td>132</td>\n",
       "    </tr>\n",
       "    <tr>\n",
       "      <th>773</th>\n",
       "      <td>uPlanner</td>\n",
       "      <td>371</td>\n",
       "    </tr>\n",
       "  </tbody>\n",
       "</table>\n",
       "<p>670 rows × 2 columns</p>\n",
       "</div>"
      ],
      "text/plain": [
       "             organization  donations\n",
       "0                23People        102\n",
       "1               3G OFFICE        107\n",
       "2           4Geeks CL SpA         28\n",
       "3    734 Odontológica P.V        105\n",
       "5                AB InBev       1438\n",
       "..                    ...        ...\n",
       "768               YAPO.CL        245\n",
       "769                  YAPP         98\n",
       "770                   YOM        294\n",
       "771              YOUTOPIA        132\n",
       "773              uPlanner        371\n",
       "\n",
       "[670 rows x 2 columns]"
      ]
     },
     "execution_count": 25,
     "metadata": {},
     "output_type": "execute_result"
    }
   ],
   "source": [
    "aux = df_donations.groupby('organization').agg({'donations':'sum'}).reset_index()\n",
    "aux[aux['donations']>= 15]"
   ]
  },
  {
   "cell_type": "code",
   "execution_count": 27,
   "metadata": {
    "collapsed": false,
    "pycharm": {
     "name": "#%%\n"
    }
   },
   "outputs": [],
   "source": [
    "def dict_summary(df_onboarding, df_activities, df_coverage_mes, df_donations, df_bettercoins, df_levels, organization):\n",
    "    \"\"\"\n",
    "    Creates dictionary with principal values of an organization. (First section of the report)\n",
    "    \"\"\"\n",
    "    df_summary = pd.DataFrame()\n",
    "    df_summary['numSuscribers'] = df_onboarding.loc[df_onboarding['organization'] == organization, 'num_subscribers'].values\n",
    "    df_summary['percActivation'] = df_onboarding.loc[df_onboarding['organization'] == organization, 'perc_activation'].values\n",
    "    df_summary['numSteps'] = df_steps[df_steps['organization']==organization]['steps'].sum()\n",
    "    df_summary['numCalories'] = df_activities.loc[df_activities['organization'] == organization, 'numCalories'].sum()\n",
    "    df_summary['bettercoins'] = df_bettercoins[df_bettercoins['organization']==organization]['bettercoins'].values[0]\n",
    "    df_summary['coverage'] = math.trunc(df_coverage_mes[df_coverage_mes['organization']==organization]['coverage'].sum())\n",
    "    df_summary['percBettercoins'] = df_bettercoins[df_bettercoins['organization']==organization]['proporcion_uso_moneda'].values[0]\n",
    "    df_summary['numDonations'] = np.trunc(df_donations.loc[df_donations['organization'] == organization,'donations']).sum()\n",
    "    c = df_donations[df_donations['organization']==organization]\n",
    "    \n",
    "    c=c.groupby('campaign').sum().reset_index()\n",
    "    causes=c['donations'].to_numpy()\n",
    "    n_causes=0\n",
    "\n",
    "    if organization=='SANTANDER':\n",
    "        n_causes = 1\n",
    "    elif organization == 'CRUZADOS':\n",
    "        n_causes = 1\n",
    "    else:\n",
    "         for i in causes:\n",
    "            if i>=1:\n",
    "                n_causes=n_causes+1\n",
    "    df_summary['numCauses'] = n_causes\n",
    "    df_summary['message'] = get_message(df_coverage, df_meditation_mes, df_activities,organization)\n",
    "    summary = df_summary.T[0].to_dict()\n",
    "    levels = dict_levels(df_levels, organization)\n",
    "    summary['level'] = levels['nivel']\n",
    "    summary['perc_level'] = levels['perc']\n",
    "    return summary"
   ]
  },
  {
   "cell_type": "code",
   "execution_count": 28,
   "metadata": {
    "collapsed": false,
    "pycharm": {
     "name": "#%%\n"
    }
   },
   "outputs": [],
   "source": [
    "def get_message_steps(steps: int):\n",
    "    \"\"\"\n",
    "    arreglar porcentajes\n",
    "    Defines a message related to the distance associated to the tptal amount of steps on the organization.\n",
    "    \"\"\" #cambiar a 1312 pasos por kilometro\n",
    "    km = steps/1500\n",
    "    \n",
    "    if km <= 3000: #santiago a rio\n",
    "        viajes = math.trunc(km/42)\n",
    "        porcentaje = math.trunc((km*100)/3000)\n",
    "        en_pasos = 3000*1312\n",
    "        if 50 >  porcentaje >  49:\n",
    "            frase = 'Tu organización ha recorrido medio camino de Santiago a Río de Janeiro. ¡Le faltan ' + f\"{math.trunc(3000-km):,}\".replace(',','.') + ' kilómetros para llegar!'\n",
    "        elif 100 >=  porcentaje >=  97:\n",
    "            frase = '¡Felicidades! Tu organización ha recorrido el camino completo desde Santiago a Río de Janerio. ¡Esos son 3.000 kilómetros!'\n",
    "        else:\n",
    "            frase =  'Tu organización ha recorrido el ' + str(porcentaje) + '% ' + 'del camino entre Santiago y Río de Janeiro. ¡Le faltan ' +  f\"{math.trunc(3000-km):,}\".replace(',','.') + ' kilómetros para llegar!'\n",
    "    elif  km > 3000 and km <= 21000: #muralla china 21 km\n",
    "        viajes = math.trunc(km/1406)\n",
    "        porcentaje = math.trunc((km*100)/21000)\n",
    "        en_pasos = 21000*1312\n",
    "        if 50 >  porcentaje >  49:\n",
    "            frase = 'Tu organización ha recorrido la mitad de la Muralla China. ¡Le faltan ' +  f\"{math.trunc(21000-km):,}\".replace(',','.') + ' kilómetros para recorrerla completa!'\n",
    "        elif 100 >=  porcentaje >=  97:\n",
    "            frase = '¡Felicidades! Tu organización ha recorrido toda la Muralla China. ¡Esos son 21.000 kilómetros!'\n",
    "        else:\n",
    "            frase =  'Tu organización ha recorrido el ' + str(porcentaje) + '% ' + 'de la Muralla China. ¡Le faltan ' +  f\"{math.trunc(21000-km):,}\".replace(',','.') + ' kilómetros para recorrerla completa!'\n",
    "    elif km > 21000 and km <= 40075: #vuelta al mundo\n",
    "        porcentaje = math.trunc((km*100)/40075)\n",
    "        en_pasos = 40075*1312\n",
    "        if 52 >  porcentaje >  47:\n",
    "            frase = 'Tu organización ha recorrido la mitad de una vuelta al mundo. ¡Le faltan ' + f\"{math.trunc(40075-km):,}\".replace(',','.') + ' kilómetros para dar una vuelta completa!'\n",
    "        elif 100 >=  porcentaje >=  97:\n",
    "            frase = '¡Felicidades! Tu organización ha dado una vuelta completa al mundo. ¡Esos son 40.075 kilómetros!'\n",
    "        else:\n",
    "            frase =  'Tu organización ha recorrido el ' + str(porcentaje) + '% ' + 'de una vuelta al mundo. ¡Le faltan ' +  f\"{math.trunc(40075-km):,}\".replace(',','.') + ' kilómetros para dar una vuelta completa!'\n",
    "    elif km > 40075 and km < 384400:\n",
    "        \n",
    "        porcentaje = math.trunc((km*100)/384400)\n",
    "        en_pasos = 40075*1312\n",
    "        if 52 >  porcentaje >  47:\n",
    "            frase = 'Tu organización ha recorrido la mitad del camino entre la Tierra y la Luna. ¡Le faltan ' + f\"{math.trunc(384400-km):,}\".replace(',','.') + ' kilómetros para llegar!'\n",
    "        elif 100 >=  porcentaje >=  97:\n",
    "            frase = '¡Felicidades! Tu organización ha recorrido todo el camino desde la Tierra y la Luna. ¡Esos son 384.400 kilómetros!'\n",
    "        else:\n",
    "            frase =  'Tu organización ha recorrido el ' + str(porcentaje) + '% ' + 'del camino entre la Tierra y la Luna. ¡Le faltan ' + f\"{math.trunc(384400-km):,}\".replace(',','.') + ' kilómetros para llegar!'\n",
    "    elif km > 384400:\n",
    "        porcentaje = math.trunc((km*100)/1400000)\n",
    "        en_pasos = 40075*1312\n",
    "        if 52 >  porcentaje >  47:\n",
    "            frase = 'Tu organización ha recorrido la mitad de una vuelta al Sol. ¡Le faltan ' + f\"{math.trunc(1400000-km):,}\".replace(',','.') + ' kilómetros para completarla!'\n",
    "        elif porcentaje > 100   or 100 >=  porcentaje >=  98:\n",
    "            frase = '¡Felicidades! Tu organización ha dado una vuelta completa al Sol. ¡Esos son 1.400.000 kilómetros!'\n",
    "        else:\n",
    "            frase = 'Tu organización ha recorrido ' + str(porcentaje) + '% ' +  'de una vuelta al Sol.' '¡Le faltan ' + f\"{math.trunc(1400000-km):,}\".replace(',','.') + ' kilómetros para dar una vuelta completa!'\n",
    "\n",
    "\n",
    "    return frase\n"
   ]
  },
  {
   "cell_type": "code",
   "execution_count": 29,
   "metadata": {},
   "outputs": [],
   "source": [
    "def get_message_steps_month(steps: int):\n",
    "    \"\"\"\n",
    "    Defines a message related to the distance associated to the total amount of steps on the organization.\n",
    "    \"\"\" #cambiar a 1312 pasos por kilometro\n",
    "    km = steps/1000\n",
    "    if km < 11:\n",
    "        viajes = math.trunc(km)\n",
    "        if viajes > 1:\n",
    "            frase = 'Tu organización subió ' + str(viajes) + ' veces el edifcio Burj Khalifa ¡El edifico más alto del mundo!'\n",
    "        else:\n",
    "            frase = 'Tu organización subió ' + str(viajes) + ' vez el edifcio Burj Khalifa ¡El edifico más alto del mundo!'\n",
    "    elif 11 <= km <42:\n",
    "        viajes = math.trunc(km/11)\n",
    "        if viajes > 1:\n",
    "            frase = 'Tu organización llegó ' + str(viajes) + ' veces hasta el fondo del mar'\n",
    "        else:\n",
    "            frase = 'Tu organización llegó ' + str(viajes) + ' vez hasta el fondo del mar'\n",
    "    elif 42 <= km <= 3000:\n",
    "        \n",
    "        viajes = math.trunc(km/42)\n",
    "        if viajes > 1:\n",
    "            frase = 'Tu organización completó ' + str(viajes) + ' maratones este mes'\n",
    "        else:\n",
    "            frase = 'Tu organización completó ' + str(viajes) + ' maratón este mes'\n",
    "    elif  km > 3000 and km <= 10000:\n",
    "        viajes = math.trunc(km/1406)\n",
    "        if viajes > 1:\n",
    "            frase = 'Tu organización recorrió ' + str(viajes) + ' veces el trayecto de Santiago a Buenos Aires este mes'\n",
    "        else:\n",
    "            frase = 'Tu organización recorrió ' + str(viajes) + ' vez el trayecto de Santiago a Buenos Aires este mes'\n",
    "            \n",
    "    elif km > 10000 and km < 19640:\n",
    "        \n",
    "        viajes = math.trunc(km/7062)\n",
    "        if viajes > 1:\n",
    "            frase = 'Tu organización recorrió ' + str(viajes) + ' veces el Amazonas este mes'\n",
    "        else:\n",
    "            frase = 'Tu organización recorrió ' + str(viajes) + ' vez el Amazonas este mes'\n",
    "    elif km >= 19640:\n",
    "        \n",
    "        viajes = math.trunc(km/19640)\n",
    "        if viajes > 1:\n",
    "            frase = 'Tu organización recorrió ' + str(viajes) + ' veces el trayecto de Chile a China este mes'\n",
    "        else:\n",
    "            frase = 'Tu organización recorrió ' + str(viajes) + ' vez el trayecto de Chile a China este mes'\n",
    "    return frase"
   ]
  },
  {
   "cell_type": "code",
   "execution_count": 30,
   "metadata": {
    "collapsed": false,
    "pycharm": {
     "name": "#%%\n"
    }
   },
   "outputs": [],
   "source": [
    "def get_included_benefits(df_benefits,organization):\n",
    "    \"\"\"\n",
    "    Creates dictionary of included benefits on the organitzation's agreements\n",
    "    \"\"\"\n",
    "    ben = df_benefits[df_benefits['name_organization']==organization]\n",
    "    beneficios = set(ben['pk_dim_service'])\n",
    "    dataframe = pd.DataFrame([\"Seguro de vida por fallecimiento natural\",\"Seguro de vida adicional fallecimiento accidental\",\"Seguro de invalidez accidental\",\"Atención médica en línea 24/7\",\"Consulta psicológica en línea\",\"Consulta nutricionista en línea\",\"Asesoría de ahorro e inversión\",\"Educación de bienestar\", \"Entrenamiento en casa\",\"Meditación y bienestar\"],columns=['nameBenefit'])\n",
    "    dataframe['idBenefit']=[1,2,3,4,5,6,7,8,9,10]\n",
    "    benefits1 = [8,7,6,1,2,9,10,15,4,5]\n",
    "    benefits2 = [8,7,6,11,12,13,10,15,4,5]\n",
    "    dataframe['benefits1'] = benefits1\n",
    "    dataframe['benefits2'] = benefits2\n",
    "    isIncluded=[]\n",
    "    for i in range(0,10):\n",
    "        if  dataframe.iloc[i,2] in beneficios:\n",
    "            isIncluded.append(True)\n",
    "        elif dataframe.iloc[i,3] in beneficios:\n",
    "            isIncluded.append(True)\n",
    "        else:\n",
    "            isIncluded.append(False)\n",
    "    dataframe['isIncluded'] = isIncluded\n",
    "    dataframe = dataframe.drop(['benefits1','benefits2'],axis=1)\n",
    "    ben_table = dataframe\n",
    "    b_t = ben_table.to_dict('r')\n",
    "    # return ben_table, b_t\n",
    "    # print(b_t)\n",
    "    return b_t"
   ]
  },
  {
   "cell_type": "code",
   "execution_count": 31,
   "metadata": {
    "collapsed": false,
    "pycharm": {
     "name": "#%%\n"
    }
   },
   "outputs": [],
   "source": [
    "def dict_benefits(df_benefits,organization):\n",
    "    \"\"\"\n",
    "    Creates a dictionary with the benefits of an organization and their percentage of activation. (third section of the report)\n",
    "    \"\"\"\n",
    "    b_t = get_included_benefits(df_benefits,organization)\n",
    "    dBenefits = {\n",
    "\n",
    "      \"included\": b_t\n",
    "    #   \"activation\": activation,\n",
    "    }\n",
    "    return  dBenefits"
   ]
  },
  {
   "cell_type": "code",
   "execution_count": 32,
   "metadata": {
    "collapsed": false,
    "pycharm": {
     "name": "#%%\n"
    }
   },
   "outputs": [],
   "source": [
    "def get_top_5_sports(df_activities_by_day,organization):\n",
    "    \"\"\"\n",
    "    Identify the top 5 sports by minutes on an organization\n",
    "    \"\"\"\n",
    "    org = df_activities_by_day[df_activities_by_day['organization']==organization]\n",
    "    org = org.groupby(['sport','id'])[['calories', 'minutes_activities']].sum().drop(['Sin Datos','Otros'], errors='ignore').reset_index()\n",
    "    org = org.sort_values(by='minutes_activities',ascending=False).reset_index(drop = True)\n",
    "    top5_sports = org[0:5].drop(columns = 'calories').rename(columns = {\"sport\": \"nameActivity\"})\n",
    "    top5_sports['totalHours'] = np.trunc(top5_sports['minutes_activities']/60).astype(int)\n",
    "    top5_sports = top5_sports.drop(columns = \"minutes_activities\")\n",
    "    top5_sports = top5_sports.rename(columns={'id':'idActivity'})\n",
    "    dict_sports = top5_sports.to_dict('r')\n",
    "    return dict_sports\n",
    "\n",
    "\n",
    "def get_meditation_perc(df_meditation,df_onboarding,organization):\n",
    "    \"\"\"\n",
    "    Returns the percentage of the onboarded subscribers that meditate\n",
    "    \"\"\"\n",
    "    onb = df_onboarding[df_onboarding['organization'] == organization]\n",
    "    subs = onb['num_onboarding'].values[0]\n",
    "    meditation=len(df_meditation[df_meditation['organization']==organization])\n",
    "    meditation_perc = np.nan_to_num(100*meditation / subs)\n",
    "    return meditation_perc"
   ]
  },
  {
   "cell_type": "code",
   "execution_count": 33,
   "metadata": {
    "collapsed": false,
    "pycharm": {
     "name": "#%%\n"
    }
   },
   "outputs": [],
   "source": [
    "def dict_activities(df_steps, df_activities_by_day, df_meditation, df_onboarding,organization):\n",
    "    \"\"\"\n",
    "    Creates a dictionary with the main activities of an organization and their performance compared to their previous report (fourth section of the report)\n",
    "    \"\"\"\n",
    "    steps = df_steps[df_steps['organization']==organization]['steps'].sum()\n",
    "    sum_minutes = df_meditation.loc[df_meditation['organization'] == organization, 'min_meditation'].sum()\n",
    "    sum_minutes = 0 if sum_minutes is np.nan else math.trunc(sum_minutes)\n",
    "    dActivities={\n",
    "        \"numSteps\": math.trunc(steps/1500) ,\n",
    "        \"distanceMessage\": get_message_steps(steps) ,\n",
    "        \"numActivities\": len(df_activities_by_day[df_activities_by_day['organization']==organization]),\n",
    "        \"meditationPerc\": round(get_meditation_perc(df_meditation, df_onboarding, organization),2),\n",
    "        \"meditationMin\": sum_minutes,\n",
    "    }\n",
    "    return dActivities"
   ]
  },
  {
   "cell_type": "code",
   "execution_count": 34,
   "metadata": {
    "collapsed": false,
    "pycharm": {
     "name": "#%%\n"
    }
   },
   "outputs": [],
   "source": [
    "def dict_meditation(df_meditation,df_onboarding,organization):\n",
    "    \"\"\"\n",
    "    Creates a dictionary with the meditation of an organization (deprecated)\n",
    "    \"\"\"\n",
    "    pctg_meditation = math.trunc(get_meditation_perc(df_meditation,df_onboarding,organization))\n",
    "    mean_minutes = df_meditation.loc[df_meditation['organization'] == organization, 'min_meditation'].mean()\n",
    "    mean_minutes = 0 if mean_minutes is np.nan else math.trunc(mean_minutes)\n",
    "    d = pd.DataFrame([pctg_meditation,mean_minutes],['useMindfulness','meanMinutes']).transpose()\n",
    "    dMeditation = d.to_dict('r')[0]\n",
    "    return dMeditation"
   ]
  },
  {
   "cell_type": "code",
   "execution_count": 35,
   "metadata": {},
   "outputs": [
    {
     "data": {
      "text/plain": [
       "0.5449591280653951"
      ]
     },
     "execution_count": 35,
     "metadata": {},
     "output_type": "execute_result"
    }
   ],
   "source": [
    "get_meditation_perc(df_meditation,df_onboarding,'NATURA')"
   ]
  },
  {
   "cell_type": "code",
   "execution_count": 36,
   "metadata": {},
   "outputs": [
    {
     "name": "stderr",
     "output_type": "stream",
     "text": [
      "C:\\Users\\ignac\\AppData\\Local\\Programs\\Python\\Python38\\lib\\site-packages\\pandas\\core\\frame.py:1549: FutureWarning: Using short name for 'orient' is deprecated. Only the options: ('dict', list, 'series', 'split', 'records', 'index') will be used in a future version. Use one of the above to silence this warning.\n",
      "  warnings.warn(\n"
     ]
    },
    {
     "data": {
      "text/plain": [
       "{'useMindfulness': 0, 'meanMinutes': 1}"
      ]
     },
     "execution_count": 36,
     "metadata": {},
     "output_type": "execute_result"
    }
   ],
   "source": [
    "dict_meditation(df_meditation,df_onboarding,'NATURA')"
   ]
  },
  {
   "cell_type": "code",
   "execution_count": 37,
   "metadata": {
    "collapsed": false,
    "pycharm": {
     "name": "#%%\n"
    }
   },
   "outputs": [],
   "source": [
    "def bettercoins_360(df_onboarding,df_bettercoins_habits,df_cohorts,organization = None):\n",
    "    \"\"\"\n",
    "    Bettercoins obtained by an organization per week per user only considering habits\n",
    "    \"\"\"\n",
    "    df_total_days = df_cohorts.groupby('organization')[['total_days']].sum().fillna(0).reset_index()\n",
    "    df_complete = df_onboarding.merge(df_bettercoins_habits,on='organization',how='outer')\n",
    "    df_complete = df_total_days.merge(df_complete,on='organization',how='outer')\n",
    "    df_complete.loc[:,'daily_bettercoins_subs'] = df_complete['bettercoins']/df_complete['total_days']\n",
    "    df_complete =df_complete.replace([np.inf, -np.inf], np.nan).fillna(0)\n",
    "    df_complete.to_excel('complete.xlsx', index=False)\n",
    "    if organization is None:\n",
    "        mean_cov = df_complete['daily_bettercoins_subs'].replace(0,np.nan).mean(skipna=True)\n",
    "    else:\n",
    "        mean_cov = df_complete[df_complete['organization']==organization]['daily_bettercoins_subs'].to_numpy()[0]\n",
    "        if math.isnan(mean_cov):\n",
    "            mean_cov=0\n",
    "    return mean_cov*7\n",
    "\n",
    "def minutes_360(df_onboarding,df_activities,df_cohorts,organization = None):\n",
    "    \"\"\"\n",
    "    Minutes of exercises by an organization per week per user\n",
    "    \"\"\"\n",
    "    df_total_days = df_cohorts.groupby('organization')[['total_days']].sum().fillna(0).reset_index()\n",
    "    df_minutes = df_activities[['organization','numMinutes']].groupby(['organization'],as_index=False).sum()\n",
    "    df_complete = df_onboarding.merge(df_minutes,on='organization',how='outer')\n",
    "    df_complete = df_total_days.merge(df_complete,on='organization',how='outer')\n",
    "    df_complete.loc[:,'weekly_minutes_subs'] = 7 * df_complete['numMinutes']/ df_complete['total_days']\n",
    "    df_complete = df_complete.replace([np.inf, -np.inf], np.nan)\n",
    "    df_complete = df_complete.fillna(0)\n",
    "    if organization is None:\n",
    "        mean_min = df_complete.mean(axis = 0,skipna = True)['weekly_minutes_subs']\n",
    "    else:\n",
    "        mean_min = df_complete[df_complete['organization']==organization]['weekly_minutes_subs'].to_numpy()[0]\n",
    "    return mean_min\n",
    "\n",
    "def meditation_360(df_onboarding,df_meditation,df_cohorts,organization = None):\n",
    "    \"\"\"\n",
    "    Minutes of meditation by an organization per week per user\n",
    "    \"\"\"\n",
    "    df_total_days = df_cohorts.groupby('organization')[['total_days']].sum().fillna(0).reset_index()\n",
    "    df_minutes = df_meditation[['organization','min_meditation']].groupby(['organization'],as_index=False).sum()\n",
    "    df_complete = df_onboarding.merge(df_minutes,on='organization',how='outer')\n",
    "    df_complete = df_total_days.merge(df_complete,on='organization',how='outer')\n",
    "    df_complete.loc[:,'weekly_minutes_subs'] = 7 * df_complete['min_meditation'] / df_complete['total_days']\n",
    "    df_complete =df_complete.replace([np.inf, -np.inf], np.nan).fillna(0)\n",
    "    if organization is None:\n",
    "        mean_min = df_complete['weekly_minutes_subs'].mean(skipna=True)\n",
    "    else:\n",
    "        mean_min = df_complete[df_complete['organization']==organization]['weekly_minutes_subs'].to_numpy()[0]\n",
    "        if math.isnan(mean_min):\n",
    "            mean_min=0\n",
    "    return mean_min\n",
    "\n",
    "\n",
    "def donations_360(df_onboarding,df_donations,df_cohorts,organization = None):\n",
    "    \"\"\"\n",
    "    Number of donations by an organization per week per user\n",
    "    \"\"\"\n",
    "    df_total_days = df_cohorts.groupby('organization')[['total_days']].sum().fillna(0).reset_index()\n",
    "    df_don = df_donations[['organization', 'donations']].groupby(['organization'],as_index=False).sum()\n",
    "    df_complete = df_onboarding.merge(df_don,on='organization',how='outer')\n",
    "    df_complete = df_total_days.merge(df_complete,on='organization',how='outer')\n",
    "    df_complete.loc[:,'weekly_donations_subs'] = 7* df_complete['donations'] / df_complete['total_days']\n",
    "    df_complete =df_complete.replace([np.inf, -np.inf], np.nan)\n",
    "    df_complete.to_excel('complete2.xlsx', index=False)\n",
    "    if organization is None:\n",
    "        mean_donations = df_complete['weekly_donations_subs'].mean(skipna=True)\n",
    "    else:\n",
    "        mean_donations = df_complete[df_complete['organization']==organization]['weekly_donations_subs'].to_numpy()[0]\n",
    "        if math.isnan(mean_donations):\n",
    "            mean_donations=0\n",
    "    return mean_donations\n",
    "\n",
    "def mean_organization(df_onboarding, df_cohorts, df_bettercoins_habits, df_activities, df_donations, df_meditation, organization = None):\n",
    "    \"\"\"\n",
    "    Function that get you the mean of all organization per week per user for metrics and the values for a single organization\n",
    "    \"\"\"\n",
    "    if organization is None:\n",
    "        onboarding=(np.mean(df_onboarding['num_onboarding'].to_numpy()))\n",
    "        onboarding_perc=(np.mean(df_onboarding['perc_activation'].to_numpy()))\n",
    "    else:\n",
    "        onboarding = (df_onboarding[df_onboarding['organization']==organization]['num_onboarding'].to_numpy()[0])\n",
    "        onboarding_perc = (df_onboarding[df_onboarding['organization']==organization]['perc_activation'].to_numpy()[0])\n",
    "    bettercoins=(np.nan_to_num(bettercoins_360(df_onboarding,df_bettercoins_habits,df_cohorts,organization)))\n",
    "    minutes=(np.nan_to_num(minutes_360(df_onboarding,df_activities,df_cohorts,organization)))\n",
    "    meditation=(np.nan_to_num(meditation_360(df_onboarding,df_meditation,df_cohorts,organization)))\n",
    "    food=(np.nan_to_num(donations_360(df_onboarding,df_donations,df_cohorts,organization)))\n",
    "    return [int(onboarding),int(minutes),int(bettercoins),int(meditation),int(food)],[int(onboarding_perc),int(np.min([minutes*100/180,100])),int(np.min([bettercoins*100/336,100])),int(np.min([meditation*100/10,100])),int(np.min([food*100,100]))]"
   ]
  },
  {
   "cell_type": "code",
   "execution_count": 38,
   "metadata": {
    "collapsed": false,
    "pycharm": {
     "name": "#%%\n"
    }
   },
   "outputs": [],
   "source": [
    "\n",
    "\n",
    "\n",
    "def last_report(dir_reports):\n",
    "    \"\"\"\n",
    "    Creates a dataframe with the performance of an organization in the previous report\n",
    "    \"\"\"\n",
    "    dir_files = os.listdir(dir_reports)\n",
    "    matrix_info = []\n",
    "    for report in dir_files:\n",
    "        f= open(os.path.join(dir_reports,report))\n",
    "        data = json.load(f)\n",
    "        org = data['organization']\n",
    "        steps = data['activities']['numSteps']\n",
    "        meditation = data['activities']['meditationMin']\n",
    "        info = [org, steps, meditation]\n",
    "        matrix_info.append(info)\n",
    "        f.close()\n",
    "    df_last_Q = pd.DataFrame(matrix_info,columns=['organization','steps', 'meditation'])\n",
    "    return df_last_Q\n",
    "\n",
    "def dict_last_report(df_steps, df_meditation, df_last_Q, organization):\n",
    "    \"\"\"\n",
    "    Creates a dictionary with the info from the previous report if had otherwise 0 values are sent\n",
    "    \"\"\"\n",
    "    not_sent = df_last_Q[df_last_Q['organization']==organization].empty\n",
    "    if not not_sent:\n",
    "        sent = True\n",
    "        steps = df_steps[df_steps['organization']==organization]['steps'].sum()\n",
    "        last_steps = df_last_Q[df_last_Q['organization']==organization]['steps'].values[0]\n",
    "        last_meditation = df_last_Q[df_last_Q['organization']==organization]['meditation'].values[0]\n",
    "        sum_minutes = df_meditation.loc[df_meditation['organization'] == organization, 'min_meditation'].sum()\n",
    "        sum_minutes = 0 if sum_minutes is np.nan else math.trunc(sum_minutes)\n",
    "        per_steps = round(100*(steps-last_steps)/last_steps, 2)\n",
    "        per_meditation = round(100*(sum_minutes-last_meditation)/last_meditation,2) if last_meditation !=0 else \"No aplica\"\n",
    "    else:\n",
    "        sent = False\n",
    "        per_steps = 0\n",
    "        per_meditation = 0\n",
    "    dLastReport={\n",
    "        \"sentLastQ\": sent,\n",
    "        \"perNumSteps\": per_steps ,\n",
    "        \"perMeditationMin\": per_meditation\n",
    "    }\n",
    "    return dLastReport\n",
    "\n",
    "def dict_levels(df_levels,organization):\n",
    "    \"\"\"\n",
    "    Returns dictionary with the biggest level who have at least 5% of the users\n",
    "    \"\"\"\n",
    "    level = df_levels[df_levels['name_organization'] == organization]\n",
    "    tot = int(level['athlete'].sum())\n",
    "    level['perc'] = round(level['athlete']/tot*100)\n",
    "    level = level.drop(columns = \"name_organization\")\n",
    "    level['nivel'] = pd.Categorical(level['nivel'],categories=[1,2,3,4,5],ordered=True)\n",
    "    level = level.sort_values('nivel',ascending=True)\n",
    "    level = level.replace({'nivel': {1: 'Rookie', 2: 'Giver',3: 'SuperGiver',4: 'UltimateGiver',5: 'Betterflyer'}})\n",
    "    aux = True\n",
    "    i = 1\n",
    "    while aux:\n",
    "        check_level = level.iloc[-i]\n",
    "        if check_level['perc'].astype(int) >= 5:\n",
    "            aux = False\n",
    "        i += 1\n",
    "    return check_level"
   ]
  },
  {
   "cell_type": "code",
   "execution_count": 39,
   "metadata": {},
   "outputs": [],
   "source": [
    "def dict_impact(df_donations,organization):\n",
    "    c = df_donations[df_donations['organization']==organization]\n",
    "        # if organization=='SANTANDER':\n",
    "    #     df =  df_donations[(df_donations['organization']==organization) & ((df_donations['id_campaign']!=17) ) & ((df_donations['id_campaign']!=18) ) & ((df_donations['id_campaign']!=21) )]\n",
    "    # else:\n",
    "    #     df = df_donations\n",
    "    # donations = list(df[df['organization']==organization]['donations'])\n",
    "    # campaign = list(df[df['organization']==organization]['campaign'])\n",
    "    # id_campaign = list(df[df['organization']==organization]['id_campaign'])\n",
    "    # type_donation = list(df[df['organization']==organization]['type_donation'])\n",
    "    # todo = list(zip(donations,campaign,id_campaign,type_donation))\n",
    "    if organization == \"SANTANDER\":\n",
    "        agua = {\n",
    "                'quantity': 0,\n",
    "                'cause': [],\n",
    "                'idCause': [],\n",
    "                'hasDonation': False\n",
    "        }\n",
    "        arboles = {\n",
    "                'quantity': 0,\n",
    "                'cause': [],\n",
    "                'idCause': [],\n",
    "                'hasDonation': False\n",
    "        }\n",
    "        comida = {\n",
    "                'quantity': 0,\n",
    "                'cause': [],\n",
    "                'idCause': [],\n",
    "                'hasDonation': False\n",
    "        }\n",
    "        \n",
    "\n",
    "\n",
    "        if 33 in c['id_campaign'].tolist():\n",
    "            ukraine = {\n",
    "                'quantity': int(c[c['id_campaign']==33]['donations'].sum()),\n",
    "                'cause': c[c['id_campaign']==33]['campaign'].to_list(),\n",
    "                'idCause': c[c['id_campaign']==33]['id_campaign'].to_list(),\n",
    "                'hasDonation': bool(c[c['id_campaign']==33]['donations'].sum() > 0)\n",
    "            }\n",
    "        else:\n",
    "            ukraine = {\n",
    "                'quantity': 0,\n",
    "                'cause': [],\n",
    "                'idCause': [],\n",
    "                'hasDonation': False\n",
    "            }\n",
    "        generic = {\n",
    "            'quantity': int(c[c['type_donation']=='Generic']['donations'].sum()),\n",
    "            'cause': c[c['type_donation']=='Generic']['campaign'].to_list(),\n",
    "            'idCause': c[c['type_donation']=='Generic']['id_campaign'].to_list(),\n",
    "            'hasDonation': bool(c[c['type_donation']=='Generic']['donations'].sum() > 0)\n",
    "        }    \n",
    "    elif organization == \"CRUZADOS\":\n",
    "        agua = {\n",
    "                'quantity': 0,\n",
    "                'cause': [],\n",
    "                'idCause': [],\n",
    "                'hasDonation': False\n",
    "        }\n",
    "        arboles = {\n",
    "                'quantity': 0,\n",
    "                'cause': [],\n",
    "                'idCause': [],\n",
    "                'hasDonation': False\n",
    "        }\n",
    "        comida = {\n",
    "                'quantity': 0,\n",
    "                'cause': [],\n",
    "                'idCause': [],\n",
    "                'hasDonation': False\n",
    "        }\n",
    "        if 33 in c['id_campaign'].tolist():\n",
    "            ukraine = {\n",
    "                'quantity': int(c[c['id_campaign']==33]['donations'].sum()),\n",
    "                'cause': c[c['id_campaign']==33]['campaign'].to_list(),\n",
    "                'idCause': c[c['id_campaign']==33]['id_campaign'].to_list(),\n",
    "                'hasDonation': bool(c[c['id_campaign']==33]['donations'].sum() > 0)\n",
    "            }\n",
    "        else:\n",
    "            ukraine = {\n",
    "                'quantity': 0,\n",
    "                'cause': [],\n",
    "                'idCause': [],\n",
    "                'hasDonation': False\n",
    "            }\n",
    "        generic = {\n",
    "            'quantity': int(c[c['type_donation']=='Meals']['donations'].sum()),\n",
    "            'cause': c[c['type_donation']=='Meals']['campaign'].to_list(),\n",
    "            'idCause': c[c['type_donation']=='Meals']['id_campaign'].to_list(),\n",
    "            'hasDonation': bool(c[c['type_donation']=='Meals']['donations'].sum() > 0)\n",
    "        }  \n",
    "    else:\n",
    "        agua = {\n",
    "            'quantity': int(c[c['type_donation']=='Water']['donations'].sum()),\n",
    "            'cause': c[c['type_donation']=='Water']['campaign'].to_list(),\n",
    "            'idCause': c[c['type_donation']=='Water']['id_campaign'].to_list(),\n",
    "            'hasDonation': bool(c[c['type_donation']=='Water']['donations'].sum() > 0)\n",
    "        }\n",
    "        arboles = {\n",
    "            'quantity': int(c[c['type_donation']=='Trees']['donations'].sum()),\n",
    "            'cause': c[c['type_donation']=='Trees']['campaign'].to_list(),\n",
    "            'idCause': c[c['type_donation']=='Trees']['id_campaign'].to_list(),\n",
    "            'hasDonation': bool(c[c['type_donation']=='Trees']['donations'].sum() > 0)\n",
    "        }\n",
    "        comida = {\n",
    "            'quantity': int(c[c['type_donation']=='Meals']['donations'].sum()),\n",
    "            'cause': c[c['type_donation']=='Meals']['campaign'].to_list(),\n",
    "            'idCause': c[c['type_donation']=='Meals']['id_campaign'].to_list(),\n",
    "            'hasDonation': bool(c[c['type_donation']=='Meals']['donations'].sum() > 0)\n",
    "        }\n",
    "        \n",
    "\n",
    "\n",
    "        if 33 in c['id_campaign'].tolist():\n",
    "            ukraine = {\n",
    "                'quantity': int(c[c['id_campaign']==33]['donations'].sum()),\n",
    "                'cause': c[c['id_campaign']==33]['campaign'].to_list(),\n",
    "                'idCause': c[c['id_campaign']==33]['id_campaign'].to_list(),\n",
    "                'hasDonation': bool(c[c['id_campaign']==33]['donations'].sum() > 0)\n",
    "            }\n",
    "\n",
    "\n",
    "        \n",
    "\n",
    "\n",
    "        generic = {\n",
    "            'quantity': int(c[(c['type_donation']=='Generic') & (c['id_campaign']!=33) ]['donations'].sum()),\n",
    "            'cause': c[(c['type_donation']=='Generic') & (c['id_campaign']!=33)]['campaign'].to_list(),\n",
    "            'idCause': c[(c['type_donation']=='Generic') & (c['id_campaign']!=33)]['id_campaign'].to_list(),\n",
    "            'hasDonation': bool(c[(c['type_donation']=='Generic') & (c['id_campaign']!=33)]['donations'].sum() > 0)\n",
    "        }\n",
    "            \n",
    "\n",
    "    dImpact = {\n",
    "    \"Agua\": agua,\n",
    "    \"Arboles\": arboles,\n",
    "    \"Comida\": comida,\n",
    "    \"Ucrania\":ukraine,\n",
    "    \"Generic\": generic\n",
    "    }\n",
    "    return dImpact\n",
    "  \n",
    "    \n",
    "    "
   ]
  },
  {
   "cell_type": "code",
   "execution_count": 40,
   "metadata": {},
   "outputs": [
    {
     "data": {
      "text/plain": [
       "[13, 17, 18, 20, 21, 26, 29, 30, 33]"
      ]
     },
     "execution_count": 40,
     "metadata": {},
     "output_type": "execute_result"
    }
   ],
   "source": [
    "df_donations[df_donations['organization']=='Betterfly']['id_campaign'].tolist()"
   ]
  },
  {
   "cell_type": "code",
   "execution_count": 41,
   "metadata": {},
   "outputs": [
    {
     "data": {
      "text/html": [
       "<div>\n",
       "<style scoped>\n",
       "    .dataframe tbody tr th:only-of-type {\n",
       "        vertical-align: middle;\n",
       "    }\n",
       "\n",
       "    .dataframe tbody tr th {\n",
       "        vertical-align: top;\n",
       "    }\n",
       "\n",
       "    .dataframe thead th {\n",
       "        text-align: right;\n",
       "    }\n",
       "</style>\n",
       "<table border=\"1\" class=\"dataframe\">\n",
       "  <thead>\n",
       "    <tr style=\"text-align: right;\">\n",
       "      <th></th>\n",
       "      <th>id_campaign</th>\n",
       "      <th>organization</th>\n",
       "      <th>campaign</th>\n",
       "      <th>type_donation</th>\n",
       "      <th>donations</th>\n",
       "    </tr>\n",
       "  </thead>\n",
       "  <tbody>\n",
       "    <tr>\n",
       "      <th>533</th>\n",
       "      <td>13</td>\n",
       "      <td>SANTANDER</td>\n",
       "      <td>Feed a child in Venezuela</td>\n",
       "      <td>Meals</td>\n",
       "      <td>10</td>\n",
       "    </tr>\n",
       "    <tr>\n",
       "      <th>1244</th>\n",
       "      <td>17</td>\n",
       "      <td>SANTANDER</td>\n",
       "      <td>Fight the water crisis</td>\n",
       "      <td>Water</td>\n",
       "      <td>4</td>\n",
       "    </tr>\n",
       "    <tr>\n",
       "      <th>1971</th>\n",
       "      <td>18</td>\n",
       "      <td>SANTANDER</td>\n",
       "      <td>Trees to save the future</td>\n",
       "      <td>Trees</td>\n",
       "      <td>9</td>\n",
       "    </tr>\n",
       "    <tr>\n",
       "      <th>2093</th>\n",
       "      <td>19</td>\n",
       "      <td>SANTANDER</td>\n",
       "      <td>Santander supports education</td>\n",
       "      <td>Generic</td>\n",
       "      <td>13167</td>\n",
       "    </tr>\n",
       "    <tr>\n",
       "      <th>2646</th>\n",
       "      <td>20</td>\n",
       "      <td>SANTANDER</td>\n",
       "      <td>Against child malnutrition in Haiti</td>\n",
       "      <td>Meals</td>\n",
       "      <td>3</td>\n",
       "    </tr>\n",
       "    <tr>\n",
       "      <th>3343</th>\n",
       "      <td>21</td>\n",
       "      <td>SANTANDER</td>\n",
       "      <td>Chile's first food bank</td>\n",
       "      <td>Meals</td>\n",
       "      <td>3</td>\n",
       "    </tr>\n",
       "  </tbody>\n",
       "</table>\n",
       "</div>"
      ],
      "text/plain": [
       "      id_campaign organization                             campaign  \\\n",
       "533            13    SANTANDER            Feed a child in Venezuela   \n",
       "1244           17    SANTANDER               Fight the water crisis   \n",
       "1971           18    SANTANDER             Trees to save the future   \n",
       "2093           19    SANTANDER         Santander supports education   \n",
       "2646           20    SANTANDER  Against child malnutrition in Haiti   \n",
       "3343           21    SANTANDER              Chile's first food bank   \n",
       "\n",
       "     type_donation  donations  \n",
       "533          Meals         10  \n",
       "1244         Water          4  \n",
       "1971         Trees          9  \n",
       "2093       Generic      13167  \n",
       "2646         Meals          3  \n",
       "3343         Meals          3  "
      ]
     },
     "execution_count": 41,
     "metadata": {},
     "output_type": "execute_result"
    }
   ],
   "source": [
    "df_donations[df_donations['organization']=='SANTANDER']"
   ]
  },
  {
   "cell_type": "code",
   "execution_count": 42,
   "metadata": {},
   "outputs": [
    {
     "data": {
      "text/plain": [
       "{'Agua': {'quantity': 0, 'cause': [], 'idCause': [], 'hasDonation': False},\n",
       " 'Arboles': {'quantity': 0, 'cause': [], 'idCause': [], 'hasDonation': False},\n",
       " 'Comida': {'quantity': 0, 'cause': [], 'idCause': [], 'hasDonation': False},\n",
       " 'Ucrania': {'quantity': 0, 'cause': [], 'idCause': [], 'hasDonation': False},\n",
       " 'Generic': {'quantity': 13167,\n",
       "  'cause': ['Santander supports education'],\n",
       "  'idCause': [19],\n",
       "  'hasDonation': True}}"
      ]
     },
     "execution_count": 42,
     "metadata": {},
     "output_type": "execute_result"
    }
   ],
   "source": [
    "dict_impact(df_donations,'SANTANDER')"
   ]
  },
  {
   "cell_type": "code",
   "execution_count": 43,
   "metadata": {},
   "outputs": [],
   "source": [
    "\n",
    "def dict_cluster(df_cluster, organization):\n",
    "    \"\"\"\n",
    "    Returns the percentage of the onboarded subscribers that meditate\n",
    "    \"\"\"\n",
    "    clust = df_cluster[df_cluster['name_organization'] == organization]\n",
    "    clust = clust[(clust['labels'] != 'No physical activity') & (clust['labels'] != 'No information') & (clust['labels'] != 'No sufficient information')]\n",
    "    tot = int(clust['freq'].sum())\n",
    "    clust['perc'] = round(clust['freq']/tot*100)\n",
    "    clust = clust.drop(columns = \"name_organization\")\n",
    "    clust['labels'] = pd.Categorical(clust['labels'],categories=['Beginners','Walkers','Amateurs', 'Athletes'],ordered=True)\n",
    "    clust = clust.sort_values('labels',ascending=True)\n",
    "    clust = clust.replace({'labels': {'Beginners': 'Principiantes', 'Walkers': 'Caminantes','Amateurs': 'Amateurs', 'Athletes': 'Atletas'}})\n",
    "    dClust = {\n",
    "        'total': tot,\n",
    "        'clusters': clust.to_dict('r')\n",
    "    }\n",
    "    return dClust"
   ]
  },
  {
   "cell_type": "code",
   "execution_count": 44,
   "metadata": {},
   "outputs": [],
   "source": [
    "\n",
    "def datos_mejor_mes(df_steps,df_donations_b,df_meditation_mes,df_activities_by_day,organization):\n",
    "    steps_year = df_steps[df_steps['organization']==organization]['steps'].sum()\n",
    "    donations_meal = df_donations_b[(df_donations_b['organization'] == organization)& (df_donations_b['type_donation']== 'Meals')]['donations'].sum()\n",
    "    meditation = df_meditation_mes[df_meditation_mes['organization']==organization].groupby(['organization']).agg({'num_meditations':'sum','min_meditation':'sum'}).reset_index()['min_meditation'].values.tolist()[0]\n",
    "    routine_actividad = df_activities_by_day[(df_activities_by_day['organization']== organization) ]['sport'].count()\n",
    "    if organization == 'CRUZADOS' or organization=='SANTANDER':\n",
    "        donations_meal = 0\n",
    "    dActivities={\n",
    "        \"numSteps\":math.trunc(steps_year/1500),\n",
    "        \"message_year\": get_message_steps(steps_year),\n",
    "        \"donations\": donations_meal,\n",
    "        \"min_meditation\":meditation,\n",
    "        \"routine_activity\":routine_actividad}\n",
    "\n",
    "    # print(total_donations)\n",
    "    return dActivities\n",
    "    "
   ]
  },
  {
   "cell_type": "code",
   "execution_count": 45,
   "metadata": {},
   "outputs": [],
   "source": [
    "allOrganizations =  mean_organization(df_onboarding, df_cohorts, df_bettercoins_habits, df_activities, df_donations, df_meditation)[1]"
   ]
  },
  {
   "cell_type": "code",
   "execution_count": 46,
   "metadata": {},
   "outputs": [
    {
     "data": {
      "text/plain": [
       "{'numSteps': 28896,\n",
       " 'message_year': 'Tu organización ha recorrido el 72% de una vuelta al mundo. ¡Le faltan 11.178 kilómetros para dar una vuelta completa!',\n",
       " 'donations': 0,\n",
       " 'min_meditation': 2619.0,\n",
       " 'routine_activity': 2515}"
      ]
     },
     "execution_count": 46,
     "metadata": {},
     "output_type": "execute_result"
    }
   ],
   "source": [
    "datos_mejor_mes(df_steps,df_donations_b,df_meditation_mes,df_activities_by_day,'KUEHNE+NAGEL')"
   ]
  },
  {
   "cell_type": "code",
   "execution_count": 47,
   "metadata": {},
   "outputs": [],
   "source": [
    "orgs = df_onboarding['organization'].tolist()[20:30]"
   ]
  },
  {
   "cell_type": "code",
   "execution_count": 49,
   "metadata": {
    "collapsed": false,
    "pycharm": {
     "name": "#%%\n"
    }
   },
   "outputs": [
    {
     "name": "stderr",
     "output_type": "stream",
     "text": [
      "C:\\Users\\ignac\\AppData\\Local\\Temp/ipykernel_18408/651662895.py:50: SettingWithCopyWarning: \n",
      "A value is trying to be set on a copy of a slice from a DataFrame.\n",
      "Try using .loc[row_indexer,col_indexer] = value instead\n",
      "\n",
      "See the caveats in the documentation: https://pandas.pydata.org/pandas-docs/stable/user_guide/indexing.html#returning-a-view-versus-a-copy\n",
      "  level['perc'] = round(level['athlete']/tot*100)\n",
      "C:\\Users\\ignac\\AppData\\Local\\Programs\\Python\\Python38\\lib\\site-packages\\pandas\\core\\frame.py:1549: FutureWarning: Using short name for 'orient' is deprecated. Only the options: ('dict', list, 'series', 'split', 'records', 'index') will be used in a future version. Use one of the above to silence this warning.\n",
      "  warnings.warn(\n"
     ]
    },
    {
     "name": "stdout",
     "output_type": "stream",
     "text": [
      "CARIOLA\n"
     ]
    },
    {
     "name": "stderr",
     "output_type": "stream",
     "text": [
      "C:\\Users\\ignac\\AppData\\Local\\Programs\\Python\\Python38\\lib\\site-packages\\pandas\\core\\frame.py:1549: FutureWarning: Using short name for 'orient' is deprecated. Only the options: ('dict', list, 'series', 'split', 'records', 'index') will be used in a future version. Use one of the above to silence this warning.\n",
      "  warnings.warn(\n",
      "C:\\Users\\ignac\\AppData\\Local\\Temp/ipykernel_18408/651662895.py:50: SettingWithCopyWarning: \n",
      "A value is trying to be set on a copy of a slice from a DataFrame.\n",
      "Try using .loc[row_indexer,col_indexer] = value instead\n",
      "\n",
      "See the caveats in the documentation: https://pandas.pydata.org/pandas-docs/stable/user_guide/indexing.html#returning-a-view-versus-a-copy\n",
      "  level['perc'] = round(level['athlete']/tot*100)\n",
      "C:\\Users\\ignac\\AppData\\Local\\Programs\\Python\\Python38\\lib\\site-packages\\pandas\\core\\frame.py:1549: FutureWarning: Using short name for 'orient' is deprecated. Only the options: ('dict', list, 'series', 'split', 'records', 'index') will be used in a future version. Use one of the above to silence this warning.\n",
      "  warnings.warn(\n",
      "C:\\Users\\ignac\\AppData\\Local\\Temp/ipykernel_18408/651662895.py:50: SettingWithCopyWarning: \n",
      "A value is trying to be set on a copy of a slice from a DataFrame.\n",
      "Try using .loc[row_indexer,col_indexer] = value instead\n",
      "\n",
      "See the caveats in the documentation: https://pandas.pydata.org/pandas-docs/stable/user_guide/indexing.html#returning-a-view-versus-a-copy\n",
      "  level['perc'] = round(level['athlete']/tot*100)\n",
      "C:\\Users\\ignac\\AppData\\Local\\Programs\\Python\\Python38\\lib\\site-packages\\pandas\\core\\frame.py:1549: FutureWarning: Using short name for 'orient' is deprecated. Only the options: ('dict', list, 'series', 'split', 'records', 'index') will be used in a future version. Use one of the above to silence this warning.\n",
      "  warnings.warn(\n",
      "C:\\Users\\ignac\\AppData\\Local\\Temp/ipykernel_18408/651662895.py:50: SettingWithCopyWarning: \n",
      "A value is trying to be set on a copy of a slice from a DataFrame.\n",
      "Try using .loc[row_indexer,col_indexer] = value instead\n",
      "\n",
      "See the caveats in the documentation: https://pandas.pydata.org/pandas-docs/stable/user_guide/indexing.html#returning-a-view-versus-a-copy\n",
      "  level['perc'] = round(level['athlete']/tot*100)\n",
      "C:\\Users\\ignac\\AppData\\Local\\Programs\\Python\\Python38\\lib\\site-packages\\pandas\\core\\frame.py:1549: FutureWarning: Using short name for 'orient' is deprecated. Only the options: ('dict', list, 'series', 'split', 'records', 'index') will be used in a future version. Use one of the above to silence this warning.\n",
      "  warnings.warn(\n",
      "C:\\Users\\ignac\\AppData\\Local\\Temp/ipykernel_18408/651662895.py:50: SettingWithCopyWarning: \n",
      "A value is trying to be set on a copy of a slice from a DataFrame.\n",
      "Try using .loc[row_indexer,col_indexer] = value instead\n",
      "\n",
      "See the caveats in the documentation: https://pandas.pydata.org/pandas-docs/stable/user_guide/indexing.html#returning-a-view-versus-a-copy\n",
      "  level['perc'] = round(level['athlete']/tot*100)\n",
      "C:\\Users\\ignac\\AppData\\Local\\Programs\\Python\\Python38\\lib\\site-packages\\pandas\\core\\frame.py:1549: FutureWarning: Using short name for 'orient' is deprecated. Only the options: ('dict', list, 'series', 'split', 'records', 'index') will be used in a future version. Use one of the above to silence this warning.\n",
      "  warnings.warn(\n",
      "C:\\Users\\ignac\\AppData\\Local\\Temp/ipykernel_18408/651662895.py:50: SettingWithCopyWarning: \n",
      "A value is trying to be set on a copy of a slice from a DataFrame.\n",
      "Try using .loc[row_indexer,col_indexer] = value instead\n",
      "\n",
      "See the caveats in the documentation: https://pandas.pydata.org/pandas-docs/stable/user_guide/indexing.html#returning-a-view-versus-a-copy\n",
      "  level['perc'] = round(level['athlete']/tot*100)\n",
      "C:\\Users\\ignac\\AppData\\Local\\Programs\\Python\\Python38\\lib\\site-packages\\pandas\\core\\frame.py:1549: FutureWarning: Using short name for 'orient' is deprecated. Only the options: ('dict', list, 'series', 'split', 'records', 'index') will be used in a future version. Use one of the above to silence this warning.\n",
      "  warnings.warn(\n",
      "C:\\Users\\ignac\\AppData\\Local\\Temp/ipykernel_18408/651662895.py:50: SettingWithCopyWarning: \n",
      "A value is trying to be set on a copy of a slice from a DataFrame.\n",
      "Try using .loc[row_indexer,col_indexer] = value instead\n",
      "\n",
      "See the caveats in the documentation: https://pandas.pydata.org/pandas-docs/stable/user_guide/indexing.html#returning-a-view-versus-a-copy\n",
      "  level['perc'] = round(level['athlete']/tot*100)\n",
      "C:\\Users\\ignac\\AppData\\Local\\Programs\\Python\\Python38\\lib\\site-packages\\pandas\\core\\frame.py:1549: FutureWarning: Using short name for 'orient' is deprecated. Only the options: ('dict', list, 'series', 'split', 'records', 'index') will be used in a future version. Use one of the above to silence this warning.\n",
      "  warnings.warn(\n"
     ]
    },
    {
     "name": "stdout",
     "output_type": "stream",
     "text": [
      "1\n"
     ]
    }
   ],
   "source": [
    "\n",
    "allOrganizations =  mean_organization(df_onboarding, df_cohorts, df_bettercoins_habits, df_activities, df_donations, df_meditation)[1]\n",
    "errores=0\n",
    "for organization in orgs:\n",
    "    try:\n",
    "        #print(\"Generating report for: \" + organization)\n",
    "            # Summary section\n",
    "        dSummary = dict_summary(df_onboarding, df_activities, df_coverage, df_donations, df_bettercoins, df_levels, organization)\n",
    "            # Level section\n",
    "        #dLevel = dict_levels(df_levels, organization)\n",
    "            # Impact section\n",
    "        dImpact =  dict_impact(df_donations,organization)\n",
    "\n",
    "            # Benefits section\n",
    "        dBenefits = dict_benefits(df_benefits,organization)\n",
    "\n",
    "            # Activities section\n",
    "        dActivities = datos_mejor_mes(df_steps_mes,df_donations_b,df_meditation_mes,df_activities_by_day,organization)\n",
    "\n",
    "        vision360 = mean_organization(df_onboarding, df_cohorts, df_bettercoins_habits, df_activities, df_donations, df_meditation, organization)\n",
    "\n",
    "            #idOrganization\n",
    "        idOrganization= int(df_onboarding[df_onboarding['organization']==organization]['id'].values[0])\n",
    "        # bettertogether\n",
    "        dcluster = dict_cluster(df_cluster, organization)\n",
    "        if organization in df_manual['name_organization'].tolist():\n",
    "            manual_act = int(df_manual[df_manual['name_organization']==organization]['atleta'].values[0])   \n",
    "        else:\n",
    "            manual_act = 0\n",
    "\n",
    "\n",
    "        dict_final={\n",
    "                \"organization\": organization,\n",
    "                \"idOrganization\": idOrganization ,\n",
    "                \"date\": report_date.strftime(\"%d/%m/%Y\"),\n",
    "                \"period\": \"Q4 2021\",\n",
    "                \"summary\":dSummary,\n",
    "                \"vision360\": {\n",
    "                    \"metrics\": [\"Porcentaje de enrolamiento\",\"Minutos de actividad física\",\"Bettercoins ganadas\", \"Minutos de meditación\", \"Cantidad de donaciones\"],\n",
    "                    \"units\": [\"%\", \"minutos semanales por colaborador\", \"bettercoins semanales por colaborador\", \"minutos semanales por colaborador\", \"donaciones semanales por colaborador\"],\n",
    "                    \"achievedValue\":vision360[0],\n",
    "                    \"sugestedValue\": [dSummary['numSuscribers'],180,420,10,1] ,\n",
    "                    \"achievedPercentage\": vision360[1] ,\n",
    "                    \"allOrganizations\": allOrganizations\n",
    "                },\n",
    "                \"impact\":dImpact,\n",
    "                \"benefits\":dBenefits,\n",
    "                \"activities\": dActivities,\n",
    "                'manual_habits':manual_act,\n",
    "                'bettertogether': dcluster\n",
    "                \n",
    "\n",
    "        }\n",
    "\n",
    "        if dSummary['numDonations'] > 0:\n",
    "                json_object = json.dumps(dict_final, indent = 2,default=str,ensure_ascii=False)\n",
    "                with open(\"outputq1/Q1_\" + str(today_str)+'_'+ str(idOrganization) +\".json\", \"w\", encoding=\"utf8\") as outfile:\n",
    "                    outfile.write(json_object)\n",
    "    except:\n",
    "        print(organization)\n",
    "        \n",
    "        errores +=1\n",
    "print(errores)\n",
    "\n",
    "\n"
   ]
  },
  {
   "cell_type": "code",
   "execution_count": 47,
   "metadata": {},
   "outputs": [
    {
     "name": "stdout",
     "output_type": "stream",
     "text": [
      "Generating report for: CGE\n"
     ]
    },
    {
     "name": "stderr",
     "output_type": "stream",
     "text": [
      "C:\\Users\\ignac\\AppData\\Local\\Temp/ipykernel_13028/651662895.py:50: SettingWithCopyWarning: \n",
      "A value is trying to be set on a copy of a slice from a DataFrame.\n",
      "Try using .loc[row_indexer,col_indexer] = value instead\n",
      "\n",
      "See the caveats in the documentation: https://pandas.pydata.org/pandas-docs/stable/user_guide/indexing.html#returning-a-view-versus-a-copy\n",
      "  level['perc'] = round(level['athlete']/tot*100)\n",
      "C:\\Users\\ignac\\AppData\\Local\\Programs\\Python\\Python38\\lib\\site-packages\\pandas\\core\\frame.py:1549: FutureWarning: Using short name for 'orient' is deprecated. Only the options: ('dict', list, 'series', 'split', 'records', 'index') will be used in a future version. Use one of the above to silence this warning.\n",
      "  warnings.warn(\n"
     ]
    }
   ],
   "source": [
    "\n",
    "organization='CGE'\n",
    "allOrganizations =  mean_organization(df_onboarding, df_cohorts, df_bettercoins_habits, df_activities, df_donations, df_meditation)[1]\n",
    "\n",
    "print(\"Generating report for: \" + organization)\n",
    "    # Summary section\n",
    "dSummary = dict_summary(df_onboarding, df_activities, df_coverage, df_donations, df_bettercoins, df_levels, organization)\n",
    "    # Level section\n",
    "#dLevel = dict_levels(df_levels, organization)\n",
    "    # Impact section\n",
    "dImpact =  dict_impact(df_donations,organization)\n",
    "\n",
    "    # Benefits section\n",
    "dBenefits = dict_benefits(df_benefits,organization)\n",
    "\n",
    "    # Activities section\n",
    "dActivities = datos_mejor_mes(df_steps_mes,df_donations_b,df_meditation_mes,df_activities_by_day,organization)\n",
    "\n",
    "vision360 = mean_organization(df_onboarding, df_cohorts, df_bettercoins_habits, df_activities, df_donations, df_meditation, organization)\n",
    "\n",
    "    #idOrganization\n",
    "idOrganization= int(df_onboarding[df_onboarding['organization']==organization]['id'].values[0])\n",
    "\n",
    "if organization in df_manual['name_organization'].tolist():\n",
    "    manual_act = int(df_manual[df_manual['name_organization']==organization]['atleta'].values[0])   \n",
    "else:\n",
    "    manual_act = 0\n",
    "# bettertogether\n",
    "dcluster = dict_cluster(df_cluster, organization)\n",
    "\n",
    "dict_final={\n",
    "        \"organization\": organization,\n",
    "        \"idOrganization\": idOrganization ,\n",
    "        \"date\": report_date.strftime(\"%d/%m/%Y\"),\n",
    "        \"period\": \"Q4 2021\",\n",
    "        \"summary\":dSummary,\n",
    "        \"vision360\": {\n",
    "            \"metrics\": [\"Porcentaje de enrolamiento\",\"Minutos de actividad física\",\"Bettercoins ganadas\", \"Minutos de meditación\", \"Cantidad de donaciones\"],\n",
    "            \"units\": [\"%\", \"minutos semanales por colaborador\", \"bettercoins semanales por colaborador\", \"minutos semanales por colaborador\", \"donaciones semanales por colaborador\"],\n",
    "            \"achievedValue\":vision360[0],\n",
    "            \"sugestedValue\": [dSummary['numSuscribers'],180,420,10,1] ,\n",
    "            \"achievedPercentage\": vision360[1] ,\n",
    "            \"allOrganizations\": allOrganizations\n",
    "        },\n",
    "        \"impact\":dImpact,\n",
    "        \"benefits\":dBenefits,\n",
    "        \"activities\": dActivities,\n",
    "        'manual_habits':manual_act,\n",
    "        'bettertogether': dcluster\n",
    "        \n",
    "\n",
    "}\n",
    "\n",
    "\n",
    "json_object = json.dumps(dict_final, indent = 2,default=str,ensure_ascii=False)\n",
    "with open(\"Q1_\" + str(today_str)+'_'+ str(idOrganization) +\".json\", \"w\", encoding=\"utf8\") as outfile:\n",
    "    outfile.write(json_object)"
   ]
  },
  {
   "cell_type": "code",
   "execution_count": 62,
   "metadata": {},
   "outputs": [
    {
     "data": {
      "text/html": [
       "<div>\n",
       "<style scoped>\n",
       "    .dataframe tbody tr th:only-of-type {\n",
       "        vertical-align: middle;\n",
       "    }\n",
       "\n",
       "    .dataframe tbody tr th {\n",
       "        vertical-align: top;\n",
       "    }\n",
       "\n",
       "    .dataframe thead th {\n",
       "        text-align: right;\n",
       "    }\n",
       "</style>\n",
       "<table border=\"1\" class=\"dataframe\">\n",
       "  <thead>\n",
       "    <tr style=\"text-align: right;\">\n",
       "      <th></th>\n",
       "      <th>name_organization</th>\n",
       "      <th>nivel</th>\n",
       "      <th>athlete</th>\n",
       "    </tr>\n",
       "  </thead>\n",
       "  <tbody>\n",
       "    <tr>\n",
       "      <th>0</th>\n",
       "      <td>23People</td>\n",
       "      <td>1</td>\n",
       "      <td>44</td>\n",
       "    </tr>\n",
       "    <tr>\n",
       "      <th>1</th>\n",
       "      <td>3G OFFICE</td>\n",
       "      <td>1</td>\n",
       "      <td>1</td>\n",
       "    </tr>\n",
       "    <tr>\n",
       "      <th>2</th>\n",
       "      <td>3G OFFICE</td>\n",
       "      <td>2</td>\n",
       "      <td>3</td>\n",
       "    </tr>\n",
       "    <tr>\n",
       "      <th>3</th>\n",
       "      <td>3G OFFICE</td>\n",
       "      <td>3</td>\n",
       "      <td>3</td>\n",
       "    </tr>\n",
       "    <tr>\n",
       "      <th>4</th>\n",
       "      <td>4Geeks CL SpA</td>\n",
       "      <td>1</td>\n",
       "      <td>5</td>\n",
       "    </tr>\n",
       "    <tr>\n",
       "      <th>...</th>\n",
       "      <td>...</td>\n",
       "      <td>...</td>\n",
       "      <td>...</td>\n",
       "    </tr>\n",
       "    <tr>\n",
       "      <th>1753</th>\n",
       "      <td>YOUTOPIA</td>\n",
       "      <td>4</td>\n",
       "      <td>2</td>\n",
       "    </tr>\n",
       "    <tr>\n",
       "      <th>1754</th>\n",
       "      <td>fiiS</td>\n",
       "      <td>1</td>\n",
       "      <td>1</td>\n",
       "    </tr>\n",
       "    <tr>\n",
       "      <th>1755</th>\n",
       "      <td>uPlanner</td>\n",
       "      <td>1</td>\n",
       "      <td>26</td>\n",
       "    </tr>\n",
       "    <tr>\n",
       "      <th>1756</th>\n",
       "      <td>uPlanner</td>\n",
       "      <td>2</td>\n",
       "      <td>12</td>\n",
       "    </tr>\n",
       "    <tr>\n",
       "      <th>1757</th>\n",
       "      <td>uPlanner</td>\n",
       "      <td>3</td>\n",
       "      <td>6</td>\n",
       "    </tr>\n",
       "  </tbody>\n",
       "</table>\n",
       "<p>1758 rows × 3 columns</p>\n",
       "</div>"
      ],
      "text/plain": [
       "     name_organization  nivel  athlete\n",
       "0             23People      1       44\n",
       "1            3G OFFICE      1        1\n",
       "2            3G OFFICE      2        3\n",
       "3            3G OFFICE      3        3\n",
       "4        4Geeks CL SpA      1        5\n",
       "...                ...    ...      ...\n",
       "1753          YOUTOPIA      4        2\n",
       "1754              fiiS      1        1\n",
       "1755          uPlanner      1       26\n",
       "1756          uPlanner      2       12\n",
       "1757          uPlanner      3        6\n",
       "\n",
       "[1758 rows x 3 columns]"
      ]
     },
     "execution_count": 62,
     "metadata": {},
     "output_type": "execute_result"
    }
   ],
   "source": [
    "df_levels"
   ]
  },
  {
   "cell_type": "code",
   "execution_count": 65,
   "metadata": {},
   "outputs": [
    {
     "data": {
      "text/html": [
       "<div>\n",
       "<style scoped>\n",
       "    .dataframe tbody tr th:only-of-type {\n",
       "        vertical-align: middle;\n",
       "    }\n",
       "\n",
       "    .dataframe tbody tr th {\n",
       "        vertical-align: top;\n",
       "    }\n",
       "\n",
       "    .dataframe thead th {\n",
       "        text-align: right;\n",
       "    }\n",
       "</style>\n",
       "<table border=\"1\" class=\"dataframe\">\n",
       "  <thead>\n",
       "    <tr style=\"text-align: right;\">\n",
       "      <th></th>\n",
       "      <th>name_organization</th>\n",
       "      <th>nivel</th>\n",
       "      <th>athlete</th>\n",
       "    </tr>\n",
       "  </thead>\n",
       "  <tbody>\n",
       "  </tbody>\n",
       "</table>\n",
       "</div>"
      ],
      "text/plain": [
       "Empty DataFrame\n",
       "Columns: [name_organization, nivel, athlete]\n",
       "Index: []"
      ]
     },
     "execution_count": 65,
     "metadata": {},
     "output_type": "execute_result"
    }
   ],
   "source": [
    "df_levels[df_levels['name_organization']=='CARIOLA']"
   ]
  },
  {
   "cell_type": "code",
   "execution_count": 60,
   "metadata": {},
   "outputs": [
    {
     "ename": "IndexError",
     "evalue": "single positional indexer is out-of-bounds",
     "output_type": "error",
     "traceback": [
      "\u001b[1;31m---------------------------------------------------------------------------\u001b[0m",
      "\u001b[1;31mIndexError\u001b[0m                                Traceback (most recent call last)",
      "\u001b[1;32m~\\AppData\\Local\\Temp/ipykernel_18408/1670738833.py\u001b[0m in \u001b[0;36m<module>\u001b[1;34m\u001b[0m\n\u001b[1;32m----> 1\u001b[1;33m \u001b[0mdict_levels\u001b[0m\u001b[1;33m(\u001b[0m\u001b[0mdf_levels\u001b[0m\u001b[1;33m,\u001b[0m \u001b[0morganization\u001b[0m\u001b[1;33m)\u001b[0m\u001b[1;33m\u001b[0m\u001b[1;33m\u001b[0m\u001b[0m\n\u001b[0m",
      "\u001b[1;32m~\\AppData\\Local\\Temp/ipykernel_18408/651662895.py\u001b[0m in \u001b[0;36mdict_levels\u001b[1;34m(df_levels, organization)\u001b[0m\n\u001b[0;32m     56\u001b[0m     \u001b[0mi\u001b[0m \u001b[1;33m=\u001b[0m \u001b[1;36m1\u001b[0m\u001b[1;33m\u001b[0m\u001b[1;33m\u001b[0m\u001b[0m\n\u001b[0;32m     57\u001b[0m     \u001b[1;32mwhile\u001b[0m \u001b[0maux\u001b[0m\u001b[1;33m:\u001b[0m\u001b[1;33m\u001b[0m\u001b[1;33m\u001b[0m\u001b[0m\n\u001b[1;32m---> 58\u001b[1;33m         \u001b[0mcheck_level\u001b[0m \u001b[1;33m=\u001b[0m \u001b[0mlevel\u001b[0m\u001b[1;33m.\u001b[0m\u001b[0miloc\u001b[0m\u001b[1;33m[\u001b[0m\u001b[1;33m-\u001b[0m\u001b[0mi\u001b[0m\u001b[1;33m]\u001b[0m\u001b[1;33m\u001b[0m\u001b[1;33m\u001b[0m\u001b[0m\n\u001b[0m\u001b[0;32m     59\u001b[0m         \u001b[1;32mif\u001b[0m \u001b[0mcheck_level\u001b[0m\u001b[1;33m[\u001b[0m\u001b[1;34m'perc'\u001b[0m\u001b[1;33m]\u001b[0m\u001b[1;33m.\u001b[0m\u001b[0mastype\u001b[0m\u001b[1;33m(\u001b[0m\u001b[0mint\u001b[0m\u001b[1;33m)\u001b[0m \u001b[1;33m>=\u001b[0m \u001b[1;36m5\u001b[0m\u001b[1;33m:\u001b[0m\u001b[1;33m\u001b[0m\u001b[1;33m\u001b[0m\u001b[0m\n\u001b[0;32m     60\u001b[0m             \u001b[0maux\u001b[0m \u001b[1;33m=\u001b[0m \u001b[1;32mFalse\u001b[0m\u001b[1;33m\u001b[0m\u001b[1;33m\u001b[0m\u001b[0m\n",
      "\u001b[1;32m~\\AppData\\Local\\Programs\\Python\\Python38\\lib\\site-packages\\pandas\\core\\indexing.py\u001b[0m in \u001b[0;36m__getitem__\u001b[1;34m(self, key)\u001b[0m\n\u001b[0;32m    893\u001b[0m \u001b[1;33m\u001b[0m\u001b[0m\n\u001b[0;32m    894\u001b[0m             \u001b[0mmaybe_callable\u001b[0m \u001b[1;33m=\u001b[0m \u001b[0mcom\u001b[0m\u001b[1;33m.\u001b[0m\u001b[0mapply_if_callable\u001b[0m\u001b[1;33m(\u001b[0m\u001b[0mkey\u001b[0m\u001b[1;33m,\u001b[0m \u001b[0mself\u001b[0m\u001b[1;33m.\u001b[0m\u001b[0mobj\u001b[0m\u001b[1;33m)\u001b[0m\u001b[1;33m\u001b[0m\u001b[1;33m\u001b[0m\u001b[0m\n\u001b[1;32m--> 895\u001b[1;33m             \u001b[1;32mreturn\u001b[0m \u001b[0mself\u001b[0m\u001b[1;33m.\u001b[0m\u001b[0m_getitem_axis\u001b[0m\u001b[1;33m(\u001b[0m\u001b[0mmaybe_callable\u001b[0m\u001b[1;33m,\u001b[0m \u001b[0maxis\u001b[0m\u001b[1;33m=\u001b[0m\u001b[0maxis\u001b[0m\u001b[1;33m)\u001b[0m\u001b[1;33m\u001b[0m\u001b[1;33m\u001b[0m\u001b[0m\n\u001b[0m\u001b[0;32m    896\u001b[0m \u001b[1;33m\u001b[0m\u001b[0m\n\u001b[0;32m    897\u001b[0m     \u001b[1;32mdef\u001b[0m \u001b[0m_is_scalar_access\u001b[0m\u001b[1;33m(\u001b[0m\u001b[0mself\u001b[0m\u001b[1;33m,\u001b[0m \u001b[0mkey\u001b[0m\u001b[1;33m:\u001b[0m \u001b[0mTuple\u001b[0m\u001b[1;33m)\u001b[0m\u001b[1;33m:\u001b[0m\u001b[1;33m\u001b[0m\u001b[1;33m\u001b[0m\u001b[0m\n",
      "\u001b[1;32m~\\AppData\\Local\\Programs\\Python\\Python38\\lib\\site-packages\\pandas\\core\\indexing.py\u001b[0m in \u001b[0;36m_getitem_axis\u001b[1;34m(self, key, axis)\u001b[0m\n\u001b[0;32m   1499\u001b[0m \u001b[1;33m\u001b[0m\u001b[0m\n\u001b[0;32m   1500\u001b[0m             \u001b[1;31m# validate the location\u001b[0m\u001b[1;33m\u001b[0m\u001b[1;33m\u001b[0m\u001b[1;33m\u001b[0m\u001b[0m\n\u001b[1;32m-> 1501\u001b[1;33m             \u001b[0mself\u001b[0m\u001b[1;33m.\u001b[0m\u001b[0m_validate_integer\u001b[0m\u001b[1;33m(\u001b[0m\u001b[0mkey\u001b[0m\u001b[1;33m,\u001b[0m \u001b[0maxis\u001b[0m\u001b[1;33m)\u001b[0m\u001b[1;33m\u001b[0m\u001b[1;33m\u001b[0m\u001b[0m\n\u001b[0m\u001b[0;32m   1502\u001b[0m \u001b[1;33m\u001b[0m\u001b[0m\n\u001b[0;32m   1503\u001b[0m             \u001b[1;32mreturn\u001b[0m \u001b[0mself\u001b[0m\u001b[1;33m.\u001b[0m\u001b[0mobj\u001b[0m\u001b[1;33m.\u001b[0m\u001b[0m_ixs\u001b[0m\u001b[1;33m(\u001b[0m\u001b[0mkey\u001b[0m\u001b[1;33m,\u001b[0m \u001b[0maxis\u001b[0m\u001b[1;33m=\u001b[0m\u001b[0maxis\u001b[0m\u001b[1;33m)\u001b[0m\u001b[1;33m\u001b[0m\u001b[1;33m\u001b[0m\u001b[0m\n",
      "\u001b[1;32m~\\AppData\\Local\\Programs\\Python\\Python38\\lib\\site-packages\\pandas\\core\\indexing.py\u001b[0m in \u001b[0;36m_validate_integer\u001b[1;34m(self, key, axis)\u001b[0m\n\u001b[0;32m   1442\u001b[0m         \u001b[0mlen_axis\u001b[0m \u001b[1;33m=\u001b[0m \u001b[0mlen\u001b[0m\u001b[1;33m(\u001b[0m\u001b[0mself\u001b[0m\u001b[1;33m.\u001b[0m\u001b[0mobj\u001b[0m\u001b[1;33m.\u001b[0m\u001b[0m_get_axis\u001b[0m\u001b[1;33m(\u001b[0m\u001b[0maxis\u001b[0m\u001b[1;33m)\u001b[0m\u001b[1;33m)\u001b[0m\u001b[1;33m\u001b[0m\u001b[1;33m\u001b[0m\u001b[0m\n\u001b[0;32m   1443\u001b[0m         \u001b[1;32mif\u001b[0m \u001b[0mkey\u001b[0m \u001b[1;33m>=\u001b[0m \u001b[0mlen_axis\u001b[0m \u001b[1;32mor\u001b[0m \u001b[0mkey\u001b[0m \u001b[1;33m<\u001b[0m \u001b[1;33m-\u001b[0m\u001b[0mlen_axis\u001b[0m\u001b[1;33m:\u001b[0m\u001b[1;33m\u001b[0m\u001b[1;33m\u001b[0m\u001b[0m\n\u001b[1;32m-> 1444\u001b[1;33m             \u001b[1;32mraise\u001b[0m \u001b[0mIndexError\u001b[0m\u001b[1;33m(\u001b[0m\u001b[1;34m\"single positional indexer is out-of-bounds\"\u001b[0m\u001b[1;33m)\u001b[0m\u001b[1;33m\u001b[0m\u001b[1;33m\u001b[0m\u001b[0m\n\u001b[0m\u001b[0;32m   1445\u001b[0m \u001b[1;33m\u001b[0m\u001b[0m\n\u001b[0;32m   1446\u001b[0m     \u001b[1;31m# -------------------------------------------------------------------\u001b[0m\u001b[1;33m\u001b[0m\u001b[1;33m\u001b[0m\u001b[1;33m\u001b[0m\u001b[0m\n",
      "\u001b[1;31mIndexError\u001b[0m: single positional indexer is out-of-bounds"
     ]
    }
   ],
   "source": [
    "dict_levels(df_levels, organization)"
   ]
  },
  {
   "cell_type": "code",
   "execution_count": 59,
   "metadata": {},
   "outputs": [
    {
     "data": {
      "text/plain": [
       "{'total': 0, 'clusters': []}"
      ]
     },
     "execution_count": 59,
     "metadata": {},
     "output_type": "execute_result"
    }
   ],
   "source": [
    "\n",
    "dict_cluster(df_cluster,'LA COFRADÍA')"
   ]
  }
 ],
 "metadata": {
  "kernelspec": {
   "display_name": "Python 3",
   "language": "python",
   "name": "python3"
  },
  "language_info": {
   "codemirror_mode": {
    "name": "ipython",
    "version": 3
   },
   "file_extension": ".py",
   "mimetype": "text/x-python",
   "name": "python",
   "nbconvert_exporter": "python",
   "pygments_lexer": "ipython3",
   "version": "3.8.9"
  }
 },
 "nbformat": 4,
 "nbformat_minor": 0
}
